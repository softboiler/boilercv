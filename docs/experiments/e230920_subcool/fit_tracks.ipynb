{
 "cells": [
  {
   "attachments": {},
   "cell_type": "markdown",
   "metadata": {
    "tags": []
   },
   "source": [
    "::::\n",
    ":::{thebe-button}\n",
    ":::\n",
    "::::\n",
    "\n",
    "# Fit tracks\n",
    "\n",
    "Compare experimental bubble histories to bubble history correlations. Bubble detection and linking performed by Trackpy, an implementation of the Crocker-Grier algorithm {cite}`allanTrackpy2018,crockerMethodsDigitalVideo1996`.\n"
   ]
  },
  {
   "cell_type": "code",
   "execution_count": null,
   "metadata": {
    "tags": [
     "hide-input",
     "parameters",
     "thebe-init"
    ]
   },
   "outputs": [],
   "source": [
    "from boilercv_docs.nbs import init\n",
    "\n",
    "paths = init()\n",
    "\n",
    "\n",
    "from boilercore.fits import Fit, fit_from_params\n",
    "from matplotlib.figure import Figure\n",
    "from matplotlib.pyplot import subplots\n",
    "from numpy import inf\n",
    "from pandas import read_hdf, to_datetime\n",
    "from seaborn import color_palette, lineplot, move_legend, scatterplot\n",
    "\n",
    "from boilercv.correlations import SYMBOL_LABELS\n",
    "from boilercv.dimensionless_params import jakob, prandtl\n",
    "from boilercv_docs.nbs import HIDE, set_display_options\n",
    "from boilercv_pipeline.experiments.e230920_subcool import MERGED_TRACKS, THERMAL_DATA\n",
    "\n",
    "FIGURES: list[Figure] = []\n",
    "LATENT_HEAT_OF_VAPORIZATION = 2.23e6  # J/kg\n",
    "LIQUID_DENSITY = 960  # kg/m^3\n",
    "LIQUID_DYNAMIC_VISCOSITY = 2.88e-4  # Pa-s\n",
    "LIQUID_ISOBARIC_SPECIFIC_HEAT = 4213  # J/kg-K\n",
    "LIQUID_THERMAL_CONDUCTIVITY = 0.676  # W/m-K\n",
    "VAPOR_DENSITY = 0.804  # kg/m^3\n",
    "\n",
    "MAX_REYNOLDS = 1500\n",
    "MAX_NUSSELT = 50000\n",
    "\n",
    "SCALE = 1.3\n",
    "\"\"\"Plot scale.\"\"\"\n",
    "SIZE = 20 * SCALE\n",
    "\"\"\"Size of the tracks.\"\"\"\n",
    "FONT_SCALE = SCALE\n",
    "\"\"\"Font scale for plotting.\"\"\"\n",
    "WIDTH_SCALE = 2.00\n",
    "\"\"\"Width scale for plotting.\"\"\"\n",
    "HEIGHT_SCALE = 1.30\n",
    "\"\"\"Height scale for plotting.\"\"\"\n",
    "\n",
    "\n",
    "HIDE"
   ]
  },
  {
   "cell_type": "code",
   "execution_count": null,
   "metadata": {
    "tags": [
     "hide-input"
    ]
   },
   "outputs": [],
   "source": [
    "set_display_options(FONT_SCALE)\n",
    "thermal_data = read_hdf(THERMAL_DATA)\n",
    "tracks = (\n",
    "    read_hdf(MERGED_TRACKS)\n",
    "    .assign(**{\"datetime\": lambda df: to_datetime(df[\"datetime\"])})\n",
    "    .set_index(\"datetime\")\n",
    "    .assign(**{\"Subcooling (K)\": lambda df: thermal_data[\"subcool\"]})\n",
    "    .reset_index(drop=True)\n",
    "    .assign(**{\n",
    "        \"Ja\": lambda df: jakob(\n",
    "            liquid_density=LIQUID_DENSITY,\n",
    "            vapor_density=VAPOR_DENSITY,\n",
    "            liquid_isobaric_specific_heat=LIQUID_ISOBARIC_SPECIFIC_HEAT,\n",
    "            subcooling=df[\"Subcooling (K)\"],\n",
    "            latent_heat_of_vaporization=LATENT_HEAT_OF_VAPORIZATION,\n",
    "        )\n",
    "    })\n",
    ").query(\"diameter_rate_of_change < 0\")\n",
    "constants = {\n",
    "    \"Pr\": prandtl(\n",
    "        dynamic_viscosity=LIQUID_DYNAMIC_VISCOSITY,\n",
    "        isobaric_specific_heat=LIQUID_ISOBARIC_SPECIFIC_HEAT,\n",
    "        thermal_conductivity=LIQUID_THERMAL_CONDUCTIVITY,\n",
    "    ),\n",
    "    \"Ja\": tracks[\"Ja\"].mean(),\n",
    "}\n",
    "\n",
    "tracks"
   ]
  },
  {
   "cell_type": "code",
   "execution_count": null,
   "metadata": {
    "tags": [
     "hide-input"
    ]
   },
   "outputs": [],
   "source": [
    "def nusselt_model(Re_b, C_1, C_2, C_3, C_4):  # noqa: N803, D103\n",
    "    return C_1 * Re_b**C_2 * constants[\"Pr\"] ** C_3 * constants[\"Ja\"] ** C_4\n",
    "\n",
    "\n",
    "fits, errors = fit_from_params(\n",
    "    model=nusselt_model,\n",
    "    params=Fit(\n",
    "        independent_params=[\"Re_b\"],\n",
    "        free_params=(params := [\"C_1\", \"C_2\", \"C_3\", \"C_4\"]),\n",
    "        fixed_params=[],\n",
    "        bounds=dict.fromkeys(params, (0, inf)),\n",
    "        values=dict.fromkeys(params, 1),\n",
    "    ),\n",
    "    x=tracks[\"Re_b\"].values,\n",
    "    y=tracks[\"Nu_c\"].values,\n",
    ")\n",
    "\n",
    "fits"
   ]
  },
  {
   "cell_type": "code",
   "execution_count": null,
   "metadata": {
    "tags": [
     "hide-input"
    ]
   },
   "outputs": [],
   "source": [
    "errors"
   ]
  },
  {
   "cell_type": "code",
   "execution_count": null,
   "metadata": {
    "tags": [
     "hide-input"
    ]
   },
   "outputs": [],
   "source": [
    "figure, ax = subplots()\n",
    "FIGURES.append(figure)\n",
    "ax.set_xlim(0, MAX_REYNOLDS)\n",
    "ax.set_ylim(0, MAX_NUSSELT)\n",
    "scatterplot(\n",
    "    data=tracks.rename(columns=SYMBOL_LABELS),\n",
    "    ax=ax,\n",
    "    x=\"Bubble Reynolds number\",\n",
    "    y=\"Nusselt number\",\n",
    "    hue=\"Subcooling (K)\",\n",
    "    palette=color_palette(\"flare\", as_cmap=True),\n",
    "    s=SIZE,\n",
    ")\n",
    "data = (\n",
    "    tracks.assign(**{\"Model\": nusselt_model(tracks[\"Re_b\"], **fits)})\n",
    "    .rename(columns=SYMBOL_LABELS)\n",
    "    .set_index(\"Bubble Reynolds number\")[[\"Model\"]]\n",
    ")\n",
    "lineplot(ax=ax, data=data, legend=False)\n",
    "move_legend(ax, \"upper right\")\n",
    "HIDE"
   ]
  },
  {
   "cell_type": "code",
   "execution_count": null,
   "metadata": {
    "tags": [
     "hide-input"
    ]
   },
   "outputs": [],
   "source": [
    "figure, ax = subplots()\n",
    "FIGURES.append(figure)\n",
    "scatterplot(\n",
    "    data=tracks.rename(columns=SYMBOL_LABELS),\n",
    "    ax=ax,\n",
    "    x=\"Bubble Reynolds number\",\n",
    "    y=\"Nusselt number\",\n",
    "    hue=\"Subcooling (K)\",\n",
    "    palette=color_palette(\"flare\", as_cmap=True),\n",
    "    s=SIZE,\n",
    ")\n",
    "ax.set(xscale=\"log\", yscale=\"log\")\n",
    "ax.set_xlim(1e-14, 1e14)\n",
    "ax.set_ylim(1e-17, 1e6)\n",
    "move_legend(ax, \"upper right\")\n",
    "HIDE"
   ]
  }
 ],
 "metadata": {
  "kernelspec": {
   "display_name": "Python 3 (ipykernel)",
   "language": "python",
   "name": "python3"
  },
  "language_info": {
   "codemirror_mode": {
    "name": "ipython",
    "version": 3
   },
   "file_extension": ".py",
   "mimetype": "text/x-python",
   "name": "python",
   "nbconvert_exporter": "python",
   "pygments_lexer": "ipython3",
   "version": "3.11.9"
  },
  "papermill": {
   "parameters": {
    "product": "C:/Users/Blake/Code/mine/boilercv/data/docs/study_the_fit_of_bubble_collapse_correlations/prove_the_concept/23-07-13T14_full_video.ipynb"
   }
  }
 },
 "nbformat": 4,
 "nbformat_minor": 2
}
