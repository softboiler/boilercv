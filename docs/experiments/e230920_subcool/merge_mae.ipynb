{
 "cells": [
  {
   "attachments": {},
   "cell_type": "markdown",
   "metadata": {
    "tags": []
   },
   "source": [
    "::::\n",
    ":::{thebe-button}\n",
    ":::\n",
    "::::\n",
    "\n",
    "# Combine mean absolute errors\n"
   ]
  },
  {
   "cell_type": "code",
   "execution_count": null,
   "metadata": {},
   "outputs": [],
   "source": [
    "from boilercv_docs.nbs import HIDE, init\n",
    "\n",
    "paths = init()\n",
    "\n",
    "from tomllib import loads\n",
    "\n",
    "from matplotlib.figure import Figure\n",
    "from matplotlib.pyplot import subplots\n",
    "from pandas import Categorical, DataFrame, concat, read_hdf\n",
    "from seaborn import color_palette, scatterplot\n",
    "\n",
    "from boilercv.correlations import GROUPS, META_TOML\n",
    "from boilercv.correlations.models import Metadata\n",
    "from boilercv_docs.nbs import set_display_options\n",
    "from boilercv_pipeline.experiments.e230920_subcool import EXP_TIMES, MAE\n",
    "from boilercv_pipeline.experiments.e240215_plotting import cat10\n",
    "\n",
    "FIGURES: list[Figure] = []\n",
    "\"\"\"Notebook figures available for export.\"\"\"\n",
    "MAX_BETA_MAE = 1.1\n",
    "\"\"\"Maximum mean absolute error of beta to plot.\"\"\"\n",
    "MAX_NUSSELT_MAE = 200\n",
    "\"\"\"Maximum mean absolute error of nusselt to plot.\"\"\"\n",
    "SCALE = 1.6\n",
    "\"\"\"Plot scale.\"\"\"\n",
    "SIZE = 20 * SCALE\n",
    "\"\"\"Size of the tracks.\"\"\"\n",
    "FONT_SCALE = SCALE\n",
    "\"\"\"Font scale for plotting.\"\"\"\n",
    "WIDTH_SCALE = 2.00\n",
    "\"\"\"Width scale for plotting.\"\"\"\n",
    "HEIGHT_SCALE = 1.30\n",
    "\"\"\"Height scale for plotting.\"\"\"\n",
    "CORRELATIONS_PALETTE = cat10\n",
    "\"\"\"For plotting correlations.\"\"\"\n",
    "\n",
    "HIDE"
   ]
  },
  {
   "cell_type": "code",
   "execution_count": null,
   "metadata": {},
   "outputs": [],
   "source": [
    "set_display_options(FONT_SCALE)\n",
    "meta = Metadata.context_model_validate(\n",
    "    obj=loads(META_TOML.read_text(\"utf-8\") if META_TOML.exists() else \"\"),\n",
    "    context=Metadata.get_context(),\n",
    ")\n",
    "mae = DataFrame(\n",
    "    columns=[\n",
    "        \"sortable_correlation_key\",\n",
    "        \"Correlation\",\n",
    "        \"Group\",\n",
    "        \"Dimensionless bubble diameter\",\n",
    "        \"Nusselt number\",\n",
    "        \"Subcooling (K)\",\n",
    "    ],\n",
    "    data=(\n",
    "        concat([\n",
    "            read_hdf(\n",
    "                (MAE / f\"mae_{time.isoformat().replace(':', '-')}\").with_suffix(\".h5\")\n",
    "            )\n",
    "            for time in EXP_TIMES\n",
    "        ])\n",
    "        .reset_index()\n",
    "        .rename(\n",
    "            columns={\n",
    "                \"Beta (MAE)\": \"Dimensionless bubble diameter\",\n",
    "                \"Nusselt (MAE)\": \"Nusselt number\",\n",
    "                \"subcooling\": \"Subcooling (K)\",\n",
    "            }\n",
    "        )\n",
    "        .assign(**{\n",
    "            \"sortable_correlation_key\": lambda df: Categorical(\n",
    "                df[\"Correlation\"], categories=list(meta), ordered=True\n",
    "            ),\n",
    "            \"Group\": lambda df: df[\"sortable_correlation_key\"].map(GROUPS),\n",
    "            \"Correlation\": lambda df: df[\"sortable_correlation_key\"].map({\n",
    "                corr: meta[corr].name\n",
    "                for corr in df[\"sortable_correlation_key\"].unique()\n",
    "            }),\n",
    "        })\n",
    "    ),\n",
    ")\n",
    "mae"
   ]
  },
  {
   "cell_type": "code",
   "execution_count": null,
   "metadata": {},
   "outputs": [],
   "source": [
    "def plot(mae, hue, palette):\n",
    "    \"\"\"Plot mean absolute error.\"\"\"\n",
    "    figure, ax = subplots()\n",
    "    ax.set_xlim(0, MAX_BETA_MAE)\n",
    "    ax.set_ylim(0, MAX_NUSSELT_MAE)\n",
    "    FIGURES.append(figure)\n",
    "    scatterplot(\n",
    "        data=mae,\n",
    "        x=\"Dimensionless bubble diameter\",\n",
    "        y=\"Nusselt number\",\n",
    "        s=SIZE,\n",
    "        hue=hue,\n",
    "        palette=palette,\n",
    "    )\n",
    "    figure.set_figwidth(WIDTH_SCALE * figure.get_figwidth())\n",
    "    figure.set_figheight(HEIGHT_SCALE * figure.get_figheight())"
   ]
  },
  {
   "cell_type": "code",
   "execution_count": null,
   "metadata": {},
   "outputs": [],
   "source": [
    "plot(\n",
    "    mae=mae.sort_values(\"sortable_correlation_key\"),\n",
    "    hue=\"Correlation\",\n",
    "    palette=CORRELATIONS_PALETTE,\n",
    ")\n",
    "plot(mae=mae, hue=\"Subcooling (K)\", palette=color_palette(\"flare\", as_cmap=True))\n",
    "plot(mae=mae.sort_values(\"Group\"), hue=\"Group\", palette=CORRELATIONS_PALETTE)\n",
    "HIDE"
   ]
  }
 ],
 "metadata": {
  "kernelspec": {
   "display_name": "Python 3 (ipykernel)",
   "language": "python",
   "name": "python3"
  },
  "language_info": {
   "codemirror_mode": {
    "name": "ipython",
    "version": 3
   },
   "file_extension": ".py",
   "mimetype": "text/x-python",
   "name": "python",
   "nbconvert_exporter": "python",
   "pygments_lexer": "ipython3",
   "version": "3.11.9"
  },
  "papermill": {
   "parameters": {
    "product": "C:/Users/Blake/Code/mine/boilercv/data/docs/study_the_fit_of_bubble_collapse_correlations/prove_the_concept/23-07-13T14_full_video.ipynb"
   }
  }
 },
 "nbformat": 4,
 "nbformat_minor": 2
}
