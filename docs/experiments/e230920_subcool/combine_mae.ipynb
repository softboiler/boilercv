{
 "cells": [
  {
   "attachments": {},
   "cell_type": "markdown",
   "metadata": {
    "tags": []
   },
   "source": [
    "::::\n",
    ":::{thebe-button}\n",
    ":::\n",
    "::::\n",
    "\n",
    "# Combine mean absolute errors\n"
   ]
  },
  {
   "cell_type": "code",
   "execution_count": null,
   "metadata": {
    "tags": [
     "hide-input",
     "parameters",
     "thebe-init"
    ]
   },
   "outputs": [],
   "source": [
    "from boilercv_docs.nbs import init\n",
    "\n",
    "paths = init()\n",
    "\n",
    "from matplotlib.figure import Figure\n",
    "from matplotlib.pyplot import subplots\n",
    "from pandas import concat, read_hdf\n",
    "from seaborn import color_palette, scatterplot\n",
    "\n",
    "from boilercv_docs.nbs import HIDE, init\n",
    "from boilercv_pipeline.experiments.e230920_subcool import EXP_TIMES, MAE\n",
    "from boilercv_pipeline.experiments.e240215_plotting import cat10\n",
    "\n",
    "paths = init()\n",
    "\n",
    "FIGURES: list[Figure] = []\n",
    "\"\"\"Notebook figures available for export.\"\"\"\n",
    "FRAME_INTERVAL = 50\n",
    "\"\"\"Frame interval for plotting.\"\"\"\n",
    "CORRELATIONS_PALETTE = cat10\n",
    "\"\"\"For plotting correlations.\"\"\"\n",
    "MAX_BETA_MAE = 0.9\n",
    "\"\"\"Maximum mean absolute error of beta to plot.\"\"\"\n",
    "MAX_NUSSELT_MAE = 200\n",
    "\"\"\"Maximum mean absolute error of nusselt to plot.\"\"\"\n",
    "TRACKS_ALPHA = 0.3\n",
    "\"\"\"Transparency of the tracks.\"\"\"\n",
    "TRACKS_SIZE = 10\n",
    "\"\"\"Size of the tracks.\"\"\"\n",
    "\n",
    "HIDE"
   ]
  },
  {
   "cell_type": "code",
   "execution_count": null,
   "metadata": {},
   "outputs": [],
   "source": [
    "mae = (\n",
    "    concat([\n",
    "        read_hdf((MAE / f\"mae_{time.isoformat().replace(':', '-')}\").with_suffix(\".h5\"))\n",
    "        for time in EXP_TIMES\n",
    "    ])\n",
    "    .rename(columns={\"subcooling\": \"Subcooling (K)\"})\n",
    "    .reset_index()\n",
    "    .set_index([\"Correlation\", \"Subcooling (K)\"])\n",
    ")\n",
    "\n",
    "mae"
   ]
  },
  {
   "cell_type": "code",
   "execution_count": null,
   "metadata": {},
   "outputs": [],
   "source": [
    "figure, ax = subplots()\n",
    "ax.set_xlim(0, MAX_BETA_MAE)\n",
    "ax.set_ylim(0, MAX_NUSSELT_MAE)\n",
    "FIGURES.append(figure)\n",
    "scatterplot(\n",
    "    x=\"Beta (MAE)\",\n",
    "    y=\"Nusselt (MAE)\",\n",
    "    hue=\"Correlation\",\n",
    "    palette=CORRELATIONS_PALETTE,\n",
    "    data=mae,\n",
    ")\n",
    "figure.set_figwidth(1.89 * figure.get_figwidth())\n",
    "figure.set_figheight(1.30 * figure.get_figheight())\n",
    "HIDE"
   ]
  },
  {
   "cell_type": "code",
   "execution_count": null,
   "metadata": {},
   "outputs": [],
   "source": [
    "figure, ax = subplots()\n",
    "ax.set_xlim(0, MAX_BETA_MAE)\n",
    "ax.set_ylim(0, MAX_NUSSELT_MAE)\n",
    "FIGURES.append(figure)\n",
    "scatterplot(\n",
    "    x=\"Beta (MAE)\",\n",
    "    y=\"Nusselt (MAE)\",\n",
    "    hue=\"Subcooling (K)\",\n",
    "    palette=color_palette(\"flare\", as_cmap=True),\n",
    "    data=mae,\n",
    ")\n",
    "figure.set_figwidth(1.89 * figure.get_figwidth())\n",
    "figure.set_figheight(1.30 * figure.get_figheight())\n",
    "HIDE"
   ]
  }
 ],
 "metadata": {
  "kernelspec": {
   "display_name": "Python 3 (ipykernel)",
   "language": "python",
   "name": "python3"
  },
  "language_info": {
   "codemirror_mode": {
    "name": "ipython",
    "version": 3
   },
   "file_extension": ".py",
   "mimetype": "text/x-python",
   "name": "python",
   "nbconvert_exporter": "python",
   "pygments_lexer": "ipython3",
   "version": "3.11.9"
  },
  "papermill": {
   "parameters": {
    "product": "C:/Users/Blake/Code/mine/boilercv/data/docs/study_the_fit_of_bubble_collapse_correlations/prove_the_concept/23-07-13T14_full_video.ipynb"
   }
  }
 },
 "nbformat": 4,
 "nbformat_minor": 2
}
