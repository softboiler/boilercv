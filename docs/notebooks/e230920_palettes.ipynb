{
 "cells": [
  {
   "cell_type": "markdown",
   "metadata": {
    "tags": []
   },
   "source": [
    "::::\n",
    ":::{thebe-button}\n",
    ":::\n",
    "::::\n",
    "\n",
    "# Color palettes\n",
    "\n",
    "I want to find color palettes to use in my plots. I want bubble tracks in a cool palette against correlations in a warm palette. I will use `colorcet`'s Glasbey palettes {cite}`glasbeyColourDisplaysCategorical2007`. Also, a hand-selected colormap from the extended [`bokeh` starting colors](https://colorcet.holoviz.org/user_guide/Categorical.html#starting-colors) helps differentiate things further."
   ]
  },
  {
   "cell_type": "code",
   "execution_count": null,
   "metadata": {
    "tags": [
     "hide-input",
     "parameters",
     "thebe-init"
    ]
   },
   "outputs": [],
   "source": [
    "from boilercv_docs.nbs import init\n",
    "\n",
    "paths = init()\n",
    "\n",
    "\n",
    "from colorcet import colormaps  # pyright: ignore[reportAttributeAccessIssue] 1.1.356\n",
    "from seaborn import color_palette\n",
    "\n",
    "WARM_INDICES = [1, 3, 6, 16, 19, 31, 33, 37, 42, 46, 49, 69, 70, 72, 77, 83]\n",
    "\"\"\"Indices of the palette that are warm.\"\"\"\n",
    "COOL_INDICES = [0, 2, 9, 11, 12, 14, 23, 24, 25, 35, 41, 50]\n",
    "\"\"\"Indices of the not-warm palette that are cool.\"\"\"\n",
    "\n",
    "cool = colormaps[\"cet_glasbey_cool\"]\n",
    "warm = colormaps[\"cet_glasbey_warm\"]\n",
    "cat10 = colormaps[\"cet_glasbey_category10\"]\n",
    "warm12 = color_palette([c for i, c in enumerate(cat10.colors) if i in WARM_INDICES])\n",
    "cool12 = color_palette([c for i, c in enumerate(cat10.colors) if i in COOL_INDICES])\n",
    "display(cool, warm, cat10, warm12, cool12)"
   ]
  }
 ],
 "metadata": {
  "kernelspec": {
   "display_name": ".venv",
   "language": "python",
   "name": "python3"
  },
  "language_info": {
   "codemirror_mode": {
    "name": "ipython",
    "version": 3
   },
   "file_extension": ".py",
   "mimetype": "text/x-python",
   "name": "python",
   "nbconvert_exporter": "python",
   "pygments_lexer": "ipython3",
   "version": "3.11.9"
  }
 },
 "nbformat": 4,
 "nbformat_minor": 2
}
