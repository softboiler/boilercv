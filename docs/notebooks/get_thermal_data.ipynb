{
 "cells": [
  {
   "cell_type": "markdown",
   "metadata": {
    "tags": []
   },
   "source": [
    "::::\n",
    ":::{thebe-button}\n",
    ":::\n",
    "::::\n",
    "\n",
    "# Get thermal data\n"
   ]
  },
  {
   "cell_type": "code",
   "execution_count": null,
   "metadata": {
    "tags": [
     "hide-input",
     "parameters",
     "thebe-init"
    ]
   },
   "outputs": [],
   "source": [
    "from functools import cache\n",
    "\n",
    "from boilercore.fits import Fit, fit_from_params\n",
    "from boilercore.models.geometry import GEOMETRY\n",
    "from boilercore.paths import ISOLIKE, dt_fromisolike\n",
    "from devtools import pprint\n",
    "from matplotlib.pyplot import subplots\n",
    "from pandas import DataFrame, Series, concat, read_csv\n",
    "from seaborn import lineplot, scatterplot\n",
    "\n",
    "from boilercv_docs.nbs import display_markdown, init\n",
    "from boilercv_pipeline.stages.common.e230920 import Col, const\n",
    "from boilercv_pipeline.stages.common.e230920.types import DfNbOuts\n",
    "from boilercv_pipeline.stages.find_objects import FindObjects\n",
    "from boilercv_pipeline.stages.get_thermal_data import GetThermalData as Params\n",
    "\n",
    "PARAMS = None\n",
    "C = const.thermal_cols\n",
    "\n",
    "VIDEO = \"Video\"\n",
    "FIT = Fit()\n",
    "M_TO_CM = 1e-2\n",
    "M2_TO_CM2 = M_TO_CM**2\n",
    "WINDOW = 60"
   ]
  },
  {
   "cell_type": "code",
   "execution_count": null,
   "metadata": {
    "tags": [
     "hide-input",
     "remove-output"
    ]
   },
   "outputs": [],
   "source": [
    "if isinstance(PARAMS, str):\n",
    "    params = Params.model_validate_json(PARAMS)\n",
    "else:\n",
    "    params = Params(context=(_ctx := init()))\n",
    "context = params.context\n",
    "outs = DfNbOuts()\n",
    "params.format.set_display_options()\n",
    "models = FIT.get_models(params.deps.modelfunctions)[0]\n",
    "\n",
    "\n",
    "def preview(\n",
    "    df: DataFrame, cols: list[Col] = C.dests, index: Col = C.time_elapsed, head: int = 5\n",
    ") -> DataFrame:\n",
    "    \"\"\"Preview dataframes in this notebook.\"\"\"\n",
    "    display_markdown(\n",
    "        df.drop(columns=C.time())\n",
    "        .set_index(index())[[c() for c in cols if c not in [C.time, index]]]\n",
    "        .head(head),\n",
    "        floatfmt=params.format.floatfmt,\n",
    "    )\n",
    "    return df\n",
    "\n",
    "\n",
    "@cache\n",
    "def fit(ser: tuple[float, ...]) -> tuple[dict[str, float], dict[str, float]]:\n",
    "    \"\"\"Fit for each set of temperatures.\"\"\"\n",
    "    return fit_from_params(models, FIT, GEOMETRY.rods[\"R\"], ser)\n",
    "\n",
    "\n",
    "def apply_fit(df: DataFrame) -> \"Series[float]\":\n",
    "    \"\"\"Fit model function across sample temperatures.\"\"\"\n",
    "    return df.loc[:, [c() for c in C.sample_temps]].apply(\n",
    "        lambda ser: fit(tuple(ser))[0][\"q_s\"] * C.flux.scale, axis=\"columns\"\n",
    "    )\n",
    "\n",
    "\n",
    "pprint(params)"
   ]
  },
  {
   "cell_type": "code",
   "execution_count": null,
   "metadata": {
    "tags": [
     "hide-input"
    ]
   },
   "outputs": [],
   "source": [
    "sources = [c.src for c in C.sources]\n",
    "src = preview(\n",
    "    concat([\n",
    "        read_csv(\n",
    "            p,\n",
    "            usecols=[C.time.src, *sources],\n",
    "            parse_dates=[C.time.src],\n",
    "            index_col=C.time.src,\n",
    "        )\n",
    "        for p in params.deps.thermal_paths\n",
    "    ])\n",
    "    .reset_index()\n",
    "    .rename(columns={c.src: c() for c in C.sources})\n",
    "    .assign(**{\n",
    "        C.time_elapsed(): lambda df: (\n",
    "            (df[C.time()] - df[C.time()][0]).dt.total_seconds()\n",
    "        )\n",
    "    }),\n",
    "    cols=[c for c in C.sources if c not in C.sample_temps[2:]],\n",
    ")"
   ]
  },
  {
   "cell_type": "code",
   "execution_count": null,
   "metadata": {
    "tags": [
     "hide-input"
    ]
   },
   "outputs": [],
   "source": [
    "only_dests = [c for c in C.dests if c not in [*C.sources, C.boiling]]\n",
    "outs.df = preview(\n",
    "    src.set_index(C.time())\n",
    "    .resample(\"s\")\n",
    "    .mean()\n",
    "    .reset_index()\n",
    "    .ffill()\n",
    "    .assign(**{\n",
    "        C.time_elapsed(): lambda df: (\n",
    "            (df[C.time()] - df[C.time()][0]).dt.total_seconds() * C.time_elapsed.scale\n",
    "        ),\n",
    "        C.water_temp(): lambda df: df[[c() for c in C.water_temps]].mean(\n",
    "            axis=\"columns\"\n",
    "        ),\n",
    "        C.boiling(): lambda df: df[C.water_temp()].max(),\n",
    "        C.superheat(): lambda df: df[C.surface_temp()] - df[C.boiling()],\n",
    "        C.subcool(): lambda df: df[C.boiling()] - df[C.water_temp()],\n",
    "        C.flux(): apply_fit,\n",
    "    })\n",
    "    .loc[:, [c() for c in C.dests]],\n",
    "    cols=only_dests,\n",
    ")"
   ]
  },
  {
   "cell_type": "code",
   "execution_count": null,
   "metadata": {
    "tags": [
     "hide-input"
    ]
   },
   "outputs": [],
   "source": [
    "df = preview(\n",
    "    outs.df.assign(**{\n",
    "        C.time_elapsed_min(): lambda df: df[C.time_elapsed()] * C.time_elapsed_min.scale\n",
    "    })\n",
    "    .set_index(C.time())\n",
    "    .resample(\"20s\")\n",
    "    .median()\n",
    "    .assign(**{\n",
    "        f\"{VIDEO}_subcool\": lambda df: df.loc[\n",
    "            df.index[\n",
    "                df.index.get_indexer(\n",
    "                    [\n",
    "                        dt_fromisolike(match)\n",
    "                        for p in FindObjects(context=context).contours\n",
    "                        if (match := ISOLIKE.search(p.stem))\n",
    "                    ],\n",
    "                    method=\"nearest\",\n",
    "                ),\n",
    "            ],\n",
    "            C.subcool(),\n",
    "        ],\n",
    "        f\"{VIDEO}_superheat\": lambda df: df.loc[\n",
    "            df.index[\n",
    "                df.index.get_indexer(\n",
    "                    [\n",
    "                        dt_fromisolike(match)\n",
    "                        for p in FindObjects(context=context).contours\n",
    "                        if (match := ISOLIKE.search(p.stem))\n",
    "                    ],\n",
    "                    method=\"nearest\",\n",
    "                ),\n",
    "            ],\n",
    "            C.superheat(),\n",
    "        ],\n",
    "        f\"{VIDEO}_flux\": lambda df: df.loc[\n",
    "            df.index[\n",
    "                df.index.get_indexer(\n",
    "                    [\n",
    "                        dt_fromisolike(match)\n",
    "                        for p in FindObjects(context=context).contours\n",
    "                        if (match := ISOLIKE.search(p.stem))\n",
    "                    ],\n",
    "                    method=\"nearest\",\n",
    "                ),\n",
    "            ],\n",
    "            C.flux(),\n",
    "        ],\n",
    "    })\n",
    "    .reset_index(),\n",
    "    index=C.time_elapsed_min,\n",
    "    cols=[c for c in only_dests if c != C.time_elapsed],\n",
    ")"
   ]
  },
  {
   "cell_type": "code",
   "execution_count": null,
   "metadata": {
    "tags": [
     "hide-input"
    ]
   },
   "outputs": [],
   "source": [
    "fig, ax = subplots()\n",
    "outs.plots.append(fig)\n",
    "lineplot(\n",
    "    ax=ax,\n",
    "    zorder=0,\n",
    "    data=df.set_index(C.time_elapsed_min())[[C.subcool(), C.superheat()]],\n",
    "    dashes=False,\n",
    "    errorbar=None,\n",
    ")\n",
    "scatterplot(\n",
    "    ax=ax,\n",
    "    s=10 * params.format.marker_scale,\n",
    "    markers={VIDEO: \"*\"},\n",
    "    palette={VIDEO: \"red\"},\n",
    "    data=df.set_index(C.time_elapsed_min()).rename(columns={f\"{VIDEO}_subcool\": VIDEO})[\n",
    "        [VIDEO]\n",
    "    ],\n",
    ")\n",
    "scatterplot(\n",
    "    ax=ax,\n",
    "    s=10 * params.format.marker_scale,\n",
    "    markers={VIDEO: \"*\"},\n",
    "    palette={VIDEO: \"red\"},\n",
    "    data=df.set_index(C.time_elapsed_min()).rename(\n",
    "        columns={f\"{VIDEO}_superheat\": VIDEO}\n",
    "    )[[VIDEO]],\n",
    "    legend=False,\n",
    ")\n",
    "ax.set_ylabel(C.subcool.ylabel)\n",
    "params.format.move_legend(ax)"
   ]
  },
  {
   "cell_type": "code",
   "execution_count": null,
   "metadata": {
    "tags": [
     "hide-input"
    ]
   },
   "outputs": [],
   "source": [
    "fig, ax = subplots()\n",
    "outs.plots.append(fig)\n",
    "scatterplot(ax=ax, data=df, x=C.subcool(), y=C.flux(), hue=C.time_elapsed_min())\n",
    "scatterplot(\n",
    "    ax=ax,\n",
    "    s=10 * params.format.marker_scale,\n",
    "    markers={VIDEO: \"*\"},\n",
    "    palette={VIDEO: \"red\"},\n",
    "    data=df.set_index(f\"{VIDEO}_subcool\").rename(columns={f\"{VIDEO}_flux\": VIDEO})[\n",
    "        [VIDEO]\n",
    "    ],\n",
    ")\n",
    "ax.get_legend().set_title(C.time_elapsed_min())  # pyright: ignore[reportOptionalMemberAccess]\n",
    "params.format.move_legend(ax, ncol=4)"
   ]
  },
  {
   "cell_type": "code",
   "execution_count": null,
   "metadata": {
    "tags": [
     "hide-input"
    ]
   },
   "outputs": [],
   "source": [
    "fig, ax = subplots()\n",
    "outs.plots.append(fig)\n",
    "scatterplot(ax=ax, data=df, x=C.superheat(), y=C.flux(), hue=C.time_elapsed_min())\n",
    "scatterplot(\n",
    "    ax=ax,\n",
    "    s=10 * params.format.marker_scale,\n",
    "    markers={VIDEO: \"*\"},\n",
    "    palette={VIDEO: \"red\"},\n",
    "    data=df.set_index(f\"{VIDEO}_superheat\").rename(columns={f\"{VIDEO}_flux\": VIDEO})[\n",
    "        [VIDEO]\n",
    "    ],\n",
    ")\n",
    "ax.get_legend().set_title(C.time_elapsed_min())  # pyright: ignore[reportOptionalMemberAccess]\n",
    "params.format.move_legend(ax)"
   ]
  }
 ],
 "metadata": {
  "kernelspec": {
   "display_name": ".venv",
   "language": "python",
   "name": "python3"
  },
  "language_info": {
   "codemirror_mode": {
    "name": "ipython",
    "version": 3
   },
   "file_extension": ".py",
   "mimetype": "text/x-python",
   "name": "python",
   "nbconvert_exporter": "python",
   "pygments_lexer": "ipython3",
   "version": "3.11.9"
  }
 },
 "nbformat": 4,
 "nbformat_minor": 2
}
