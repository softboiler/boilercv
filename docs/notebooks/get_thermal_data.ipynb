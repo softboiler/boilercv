{
 "cells": [
  {
   "cell_type": "markdown",
   "metadata": {
    "tags": []
   },
   "source": [
    "::::\n",
    ":::{thebe-button}\n",
    ":::\n",
    "::::\n",
    "\n",
    "# Get thermal data\n"
   ]
  },
  {
   "cell_type": "code",
   "execution_count": null,
   "metadata": {
    "tags": [
     "hide-input",
     "parameters",
     "thebe-init"
    ]
   },
   "outputs": [],
   "source": [
    "from functools import cache\n",
    "\n",
    "from boilercore.fits import Fit, fit_from_params\n",
    "from boilercore.models.geometry import GEOMETRY\n",
    "from devtools import pprint\n",
    "from matplotlib.pyplot import subplots\n",
    "from pandas import DataFrame, Series, concat, read_csv\n",
    "from seaborn import lineplot, move_legend, scatterplot\n",
    "\n",
    "from boilercv_docs.nbs import init\n",
    "from boilercv_pipeline.stages.common.e230920 import const\n",
    "from boilercv_pipeline.stages.common.e230920.types import DfNbOuts\n",
    "from boilercv_pipeline.stages.get_thermal_data import Deps\n",
    "from boilercv_pipeline.stages.get_thermal_data import GetThermalData as Params\n",
    "\n",
    "PARAMS = None\n",
    "C = const.thermal_cols\n",
    "\n",
    "FIT = Fit()\n",
    "M_TO_CM = 1e-2\n",
    "M2_TO_CM2 = M_TO_CM**2\n",
    "WINDOW = 60"
   ]
  },
  {
   "cell_type": "code",
   "execution_count": null,
   "metadata": {
    "tags": [
     "hide-input",
     "remove-output"
    ]
   },
   "outputs": [],
   "source": [
    "if isinstance(PARAMS, str):\n",
    "    params = Params.model_validate_json(PARAMS)\n",
    "else:\n",
    "    params = Params(context=(_ctx := init()), deps=Deps(context=_ctx))\n",
    "params.format.set_display_options()\n",
    "pprint(params)"
   ]
  },
  {
   "cell_type": "code",
   "execution_count": null,
   "metadata": {
    "tags": [
     "hide-input"
    ]
   },
   "outputs": [],
   "source": [
    "MODELS = FIT.get_models(params.deps.modelfunctions)[0]\n",
    "\n",
    "\n",
    "@cache\n",
    "def fit(ser: tuple[float, ...]) -> tuple[dict[str, float], dict[str, float]]:\n",
    "    \"\"\"Fit for each set of temperatures.\"\"\"\n",
    "    return fit_from_params(MODELS, FIT, GEOMETRY.rods[\"R\"], ser)\n",
    "\n",
    "\n",
    "def apply_fit(df: DataFrame) -> \"Series[float]\":\n",
    "    \"\"\"Fit model function across sample temperatures.\"\"\"\n",
    "    return df.loc[:, [c.dst for c in C.sample_temps]].apply(\n",
    "        lambda ser: fit(tuple(ser))[0][\"q_s\"] * C.flux.scale, axis=\"columns\"\n",
    "    )"
   ]
  },
  {
   "cell_type": "code",
   "execution_count": null,
   "metadata": {
    "tags": [
     "hide-input"
    ]
   },
   "outputs": [],
   "source": [
    "sources = [c.src for c in C.sources]\n",
    "src = concat([\n",
    "    read_csv(\n",
    "        p,\n",
    "        usecols=[C.time.src, *sources],\n",
    "        parse_dates=[C.time.src],\n",
    "        index_col=C.time.src,\n",
    "    )\n",
    "    for p in params.deps.thermal_paths\n",
    "]).rename(columns={c.src: c.dst for c in C.sources})\n",
    "src.head()"
   ]
  },
  {
   "cell_type": "code",
   "execution_count": null,
   "metadata": {
    "tags": [
     "hide-input"
    ]
   },
   "outputs": [],
   "source": [
    "sources = [c.src for c in C.sources]\n",
    "outs = DfNbOuts(\n",
    "    df=(\n",
    "        src.resample(\"s\")\n",
    "        .mean()\n",
    "        .reset_index()\n",
    "        .rename(columns={c.src: c.dst for c in C.sources})\n",
    "        .ffill()\n",
    "        .assign(**{\n",
    "            C.time_elapsed.dst: lambda df: (\n",
    "                (df[C.time.dst] - df[C.time.dst][0]).dt.total_seconds()\n",
    "                * C.time_elapsed.scale\n",
    "            ),\n",
    "            C.water_temp.dst: lambda df: df[[c.dst for c in C.water_temps]].mean(\n",
    "                axis=\"columns\"\n",
    "            ),\n",
    "            C.boiling.dst: lambda df: df[C.water_temp.dst].max(),\n",
    "            C.superheat.dst: lambda df: df[C.surface_temp.dst] - df[C.boiling.dst],\n",
    "            C.subcool.dst: lambda df: df[C.boiling.dst] - df[C.water_temp.dst],\n",
    "            C.flux.dst: apply_fit,\n",
    "        })\n",
    "        .loc[:, [c.dst for c in C.dests]]\n",
    "    )\n",
    ")\n",
    "outs.df.set_index(C.time.dst)[[c.dst for c in C.dests if c not in C.sources]].head()"
   ]
  },
  {
   "cell_type": "code",
   "execution_count": null,
   "metadata": {
    "tags": [
     "hide-input"
    ]
   },
   "outputs": [],
   "source": [
    "latex = (\n",
    "    outs.df.set_index(C.time.dst)\n",
    "    .resample(\"10s\")\n",
    "    .mean()\n",
    "    .reset_index()\n",
    "    .rename(columns={c.dst: c.latex for c in C.dests})\n",
    ")\n",
    "figure, ax = subplots()\n",
    "lineplot(\n",
    "    ax=ax,\n",
    "    data=latex.set_index(C.time_elapsed.latex)[[C.subcool.latex, C.superheat.latex]],\n",
    "    dashes=False,\n",
    "    errorbar=None,\n",
    ")\n",
    "ax.set_ylabel(C.subcool.ylabel)\n",
    "params.format.move_legend(ax)"
   ]
  },
  {
   "cell_type": "code",
   "execution_count": null,
   "metadata": {
    "tags": [
     "hide-input"
    ]
   },
   "outputs": [],
   "source": [
    "figure, ax = subplots()\n",
    "scatterplot(\n",
    "    ax=ax,\n",
    "    data=latex,\n",
    "    x=C.subcool.latex,\n",
    "    y=C.flux.latex,\n",
    "    hue=latex[C.time_elapsed.latex],\n",
    ")\n",
    "move_legend(ax, loc=\"lower center\", bbox_to_anchor=(0.5, 1.0), ncol=3)"
   ]
  },
  {
   "cell_type": "code",
   "execution_count": null,
   "metadata": {
    "tags": [
     "hide-input"
    ]
   },
   "outputs": [],
   "source": [
    "figure, ax = subplots()\n",
    "scatterplot(\n",
    "    ax=ax,\n",
    "    data=latex.set_index(C.time_elapsed.latex),\n",
    "    x=C.superheat.latex,\n",
    "    y=C.flux.latex,\n",
    "    hue=C.time_elapsed.latex,\n",
    ")\n",
    "move_legend(ax, loc=\"lower center\", bbox_to_anchor=(0.5, 1.0), ncol=3)"
   ]
  }
 ],
 "metadata": {
  "kernelspec": {
   "display_name": ".venv",
   "language": "python",
   "name": "python3"
  },
  "language_info": {
   "codemirror_mode": {
    "name": "ipython",
    "version": 3
   },
   "file_extension": ".py",
   "mimetype": "text/x-python",
   "name": "python",
   "nbconvert_exporter": "python",
   "pygments_lexer": "ipython3",
   "version": "3.11.9"
  }
 },
 "nbformat": 4,
 "nbformat_minor": 2
}
