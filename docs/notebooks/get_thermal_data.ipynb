{
 "cells": [
  {
   "cell_type": "markdown",
   "metadata": {
    "tags": []
   },
   "source": [
    "::::\n",
    ":::{thebe-button}\n",
    ":::\n",
    "::::\n",
    "\n",
    "# Get thermal data\n"
   ]
  },
  {
   "cell_type": "code",
   "execution_count": null,
   "metadata": {
    "tags": [
     "hide-input",
     "parameters",
     "thebe-init"
    ]
   },
   "outputs": [],
   "source": [
    "from collections.abc import Iterable\n",
    "\n",
    "from boilercore.fits import fit_from_params\n",
    "from boilercore.models.geometry import GEOMETRY\n",
    "from boilercore.paths import ISOLIKE, dt_fromisolike\n",
    "from devtools import pprint\n",
    "from matplotlib.pyplot import subplots\n",
    "from pandas import DataFrame, Series, concat, read_csv, read_hdf\n",
    "from seaborn import lineplot, scatterplot\n",
    "\n",
    "from boilercv_docs.nbs import init\n",
    "from boilercv_pipeline.models.column import Col, convert, rename\n",
    "from boilercv_pipeline.stages.find_objects import FindObjects\n",
    "from boilercv_pipeline.stages.get_thermal_data import GetThermalData as Params\n",
    "\n",
    "PARAMS = None"
   ]
  },
  {
   "cell_type": "code",
   "execution_count": null,
   "metadata": {
    "tags": [
     "hide-input",
     "remove-output"
    ]
   },
   "outputs": [],
   "source": [
    "if isinstance(PARAMS, str):\n",
    "    params = Params.model_validate_json(PARAMS)\n",
    "else:\n",
    "    params = Params(context=init(), load_src_from_outs=True)\n",
    "\n",
    "params.format.set_display_options()\n",
    "data = params.data\n",
    "C = params.cols\n",
    "context = params.context\n",
    "\n",
    "\n",
    "def fit(df: DataFrame, flux: Col, sample_temps: Iterable[Col]) -> DataFrame:\n",
    "    \"\"\"Fit model function across sample temperatures.\"\"\"\n",
    "    models = params.fit.get_models(params.deps.modelfunctions)[0]\n",
    "\n",
    "    def apply_fit(df: DataFrame) -> \"Series[float]\":\n",
    "        return df.loc[:, [c() for c in sample_temps]].apply(\n",
    "            lambda ser: fit(ser)[0][\"q_s\"], axis=\"columns\"\n",
    "        )\n",
    "\n",
    "    def fit(ser: \"Series[float]\") -> tuple[dict[str, float], dict[str, float]]:\n",
    "        return fit_from_params(models, params.fit, GEOMETRY.rods[\"R\"], ser)\n",
    "\n",
    "    return df.assign(**{flux(): apply_fit})\n",
    "\n",
    "\n",
    "pprint(params)"
   ]
  },
  {
   "cell_type": "code",
   "execution_count": null,
   "metadata": {
    "tags": [
     "hide-input"
    ]
   },
   "outputs": [],
   "source": [
    "sources = [c.source.raw for c in C.sources]\n",
    "data.dfs.src = params.format.preview(\n",
    "    cols=C.sources,\n",
    "    df=concat([\n",
    "        read_csv(\n",
    "            p,\n",
    "            usecols=[C.time.source.raw, *sources],\n",
    "            parse_dates=[C.time.source.raw],\n",
    "            index_col=C.time.source.raw,\n",
    "        )\n",
    "        for p in params.deps.thermal_paths\n",
    "    ])\n",
    "    .reset_index()\n",
    "    .pipe(rename, cols=C.sources)\n",
    "    .assign(**{\n",
    "        C.time_elapsed(): lambda df: (\n",
    "            (df[C.index()] - df[C.index()][0]).dt.total_seconds()\n",
    "        )\n",
    "    }),\n",
    ")"
   ]
  },
  {
   "cell_type": "code",
   "execution_count": null,
   "metadata": {
    "tags": [
     "hide-input"
    ]
   },
   "outputs": [],
   "source": [
    "only_dests = [C.time, *[c for c in C.dests if c not in C.sources]]\n",
    "data.dfs.dst = params.format.preview(\n",
    "    cols=only_dests,\n",
    "    df=(\n",
    "        DataFrame(read_hdf(params.outs.df))\n",
    "        if params.load_src_from_outs and params.outs.df.exists()\n",
    "        else (\n",
    "            data.dfs.src.set_index(C.index())\n",
    "            .resample(\"s\")\n",
    "            .median()\n",
    "            .assign(**{\n",
    "                C.video(): lambda df: df.index.isin(\n",
    "                    df.index[\n",
    "                        df.index.get_indexer(\n",
    "                            [\n",
    "                                dt_fromisolike(match)\n",
    "                                for p in FindObjects(context=context).contours\n",
    "                                if (match := ISOLIKE.search(p.stem))\n",
    "                            ],\n",
    "                            method=\"nearest\",\n",
    "                        )\n",
    "                    ]\n",
    "                )\n",
    "            })\n",
    "            .reset_index()\n",
    "            .ffill()\n",
    "            .assign(**{\n",
    "                C.water_temp(): lambda df: df[[c() for c in C.water_temps]].mean(\n",
    "                    axis=\"columns\"\n",
    "                ),\n",
    "                C.boiling(): lambda df: df[C.water_temp()].max(),\n",
    "                C.superheat(): lambda df: df[C.surface_temp()] - df[C.boiling()],\n",
    "                C.subcool(): lambda df: df[C.boiling()] - df[C.water_temp()],\n",
    "            })\n",
    "            .pipe(fit, flux=C.flux.source, sample_temps=C.sample_temps)\n",
    "            .pipe(convert, cols=[C.time_elapsed_min, C.flux])\n",
    "        )\n",
    "    )[[c() for c in C.dests]],\n",
    ")"
   ]
  },
  {
   "cell_type": "code",
   "execution_count": null,
   "metadata": {
    "tags": [
     "hide-input"
    ]
   },
   "outputs": [],
   "source": [
    "data.dfs.resampled = params.format.preview(\n",
    "    cols=only_dests,\n",
    "    df=(\n",
    "        data.dfs.dst.set_index(C.index())\n",
    "        .resample(\"20s\")\n",
    "        .agg({\n",
    "            **dict.fromkeys([c() for c in C.dests if c != C.index], \"median\"),\n",
    "            C.video(): \"max\",\n",
    "        })\n",
    "        .reset_index()\n",
    "    ),\n",
    ")"
   ]
  },
  {
   "cell_type": "code",
   "execution_count": null,
   "metadata": {
    "tags": [
     "hide-input"
    ]
   },
   "outputs": [],
   "source": [
    "data.plots.subcool_superheat, ax = subplots()\n",
    "lineplot(\n",
    "    ax=ax,\n",
    "    zorder=1,\n",
    "    data=data.dfs.resampled.set_index(C.time_elapsed_min())[\n",
    "        [C.subcool(), C.superheat()]\n",
    "    ],\n",
    "    dashes=False,\n",
    "    errorbar=None,\n",
    ")\n",
    "scatterplot(\n",
    "    ax=ax,\n",
    "    s=10 * params.format.marker_scale,\n",
    "    markers={C.video(): \"*\"},\n",
    "    palette={C.video(): \"red\"},\n",
    "    data=data.dfs.resampled.assign(**{\n",
    "        C.video(): lambda df: df[df[C.video()]][C.superheat()]\n",
    "    }).set_index(C.time_elapsed_min())[[C.video()]],\n",
    ")\n",
    "scatterplot(\n",
    "    ax=ax,\n",
    "    s=10 * params.format.marker_scale,\n",
    "    markers={C.video(): \"*\"},\n",
    "    palette={C.video(): \"red\"},\n",
    "    data=data.dfs.resampled.assign(**{\n",
    "        C.video(): lambda df: df[df[C.video()]][C.subcool()]\n",
    "    }).set_index(C.time_elapsed_min())[[C.video()]],\n",
    "    legend=False,\n",
    ")\n",
    "ax.set_ylabel(C.subcool.without_subscript)\n",
    "params.format.move_legend(ax)"
   ]
  },
  {
   "cell_type": "code",
   "execution_count": null,
   "metadata": {
    "tags": [
     "hide-input"
    ]
   },
   "outputs": [],
   "source": [
    "data.plots.subcool, ax = subplots()\n",
    "scatterplot(\n",
    "    ax=ax, data=data.dfs.resampled, x=C.subcool(), y=C.flux(), hue=C.time_elapsed_min()\n",
    ")\n",
    "scatterplot(\n",
    "    ax=ax,\n",
    "    s=10 * params.format.marker_scale,\n",
    "    markers={C.video(): \"*\"},\n",
    "    palette={C.video(): \"red\"},\n",
    "    data=data.dfs.resampled.assign(**{\n",
    "        C.video(): lambda df: df[df[C.video()]][C.flux()]\n",
    "    }).set_index(C.subcool())[[C.video()]],\n",
    ")\n",
    "ax.get_legend().set_title(C.time_elapsed_min())  # pyright: ignore[reportOptionalMemberAccess]\n",
    "params.format.move_legend(ax, ncol=4)"
   ]
  },
  {
   "cell_type": "code",
   "execution_count": null,
   "metadata": {
    "tags": [
     "hide-input"
    ]
   },
   "outputs": [],
   "source": [
    "data.plots.superheat, ax = subplots()\n",
    "scatterplot(\n",
    "    ax=ax,\n",
    "    data=data.dfs.resampled,\n",
    "    x=C.superheat(),\n",
    "    y=C.flux(),\n",
    "    hue=C.time_elapsed_min(),\n",
    ")\n",
    "scatterplot(\n",
    "    ax=ax,\n",
    "    s=10 * params.format.marker_scale,\n",
    "    markers={C.video(): \"*\"},\n",
    "    palette={C.video(): \"red\"},\n",
    "    data=data.dfs.resampled.assign(**{\n",
    "        C.video(): lambda df: df[df[C.video()]][C.flux()]\n",
    "    }).set_index(C.superheat())[[C.video()]],\n",
    ")\n",
    "ax.get_legend().set_title(C.time_elapsed_min())  # pyright: ignore[reportOptionalMemberAccess]\n",
    "params.format.move_legend(ax, ncol=4)"
   ]
  }
 ],
 "metadata": {
  "kernelspec": {
   "display_name": ".venv",
   "language": "python",
   "name": "python3"
  },
  "language_info": {
   "codemirror_mode": {
    "name": "ipython",
    "version": 3
   },
   "file_extension": ".py",
   "mimetype": "text/x-python",
   "name": "python",
   "nbconvert_exporter": "python",
   "pygments_lexer": "ipython3",
   "version": "3.11.9"
  }
 },
 "nbformat": 4,
 "nbformat_minor": 2
}
