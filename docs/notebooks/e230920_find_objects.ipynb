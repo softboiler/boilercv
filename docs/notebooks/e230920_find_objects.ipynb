{
 "cells": [
  {
   "attachments": {},
   "cell_type": "markdown",
   "metadata": {
    "tags": []
   },
   "source": [
    "::::\n",
    ":::{thebe-button}\n",
    ":::\n",
    "::::\n",
    "\n",
    "# Find objects\n",
    "\n",
    "Find bubble size using two different approaches.\n"
   ]
  },
  {
   "cell_type": "code",
   "execution_count": null,
   "metadata": {
    "tags": [
     "hide-input",
     "parameters",
     "thebe-init"
    ]
   },
   "outputs": [],
   "source": [
    "from devtools import pprint\n",
    "from geopandas import GeoDataFrame, points_from_xy\n",
    "from numpy import pi, sqrt\n",
    "from pandas import DataFrame, IndexSlice, NamedAgg\n",
    "from seaborn import scatterplot\n",
    "from shapely import LinearRing, Polygon\n",
    "\n",
    "from boilercv.data import FRAME\n",
    "from boilercv.images import scale_bool\n",
    "from boilercv_docs.nbs import init\n",
    "from boilercv_pipeline.models.deps import get_slices\n",
    "from boilercv_pipeline.sets import get_contours_df2, get_dataset2\n",
    "from boilercv_pipeline.stages.common.e230920 import GBC, bounded_ax\n",
    "from boilercv_pipeline.stages.common.e230920.types import DfNbOuts\n",
    "from boilercv_pipeline.stages.e230920_find_objects import Deps, get_nb\n",
    "from boilercv_pipeline.stages.e230920_find_objects import E230920FindObjects as Params\n",
    "\n",
    "PARAMS = None"
   ]
  },
  {
   "cell_type": "code",
   "execution_count": null,
   "metadata": {
    "tags": [
     "hide-input",
     "remove-cell"
    ]
   },
   "outputs": [],
   "source": [
    "if isinstance(PARAMS, str):\n",
    "    params = Params.model_validate_json(PARAMS)\n",
    "else:\n",
    "    params = Params(\n",
    "        context=(ctx := init()),\n",
    "        deps=(deps := Deps(context=ctx)),\n",
    "        compare_with_trackpy=True,\n",
    "        nb=get_nb(deps),\n",
    "    )\n",
    "pprint(params)"
   ]
  },
  {
   "cell_type": "code",
   "execution_count": null,
   "metadata": {
    "tags": [
     "hide-input"
    ]
   },
   "outputs": [],
   "source": [
    "contours_df = get_contours_df2(params.nb.contours)\n",
    "slices = get_slices(params.nb.filled_slicers)\n",
    "frames = slices.get(FRAME, slice(None))\n",
    "filled = scale_bool(get_dataset2(params.nb.filled, slices=slices)[\"video\"])\n",
    "params.format.set_display_options()"
   ]
  },
  {
   "cell_type": "markdown",
   "metadata": {},
   "source": [
    "## Data\n",
    "\n",
    "Load a video of filled contours and the contour loci and plot a composite of all frames to analyze.\n"
   ]
  },
  {
   "cell_type": "code",
   "execution_count": null,
   "metadata": {
    "tags": [
     "hide-input"
    ]
   },
   "outputs": [],
   "source": [
    "if params.compare_with_trackpy:\n",
    "    from trackpy import batch\n",
    "\n",
    "composite_video = filled.max(\"frame\").values\n",
    "with bounded_ax(composite_video) as ax:\n",
    "    ax.imshow(~composite_video, alpha=0.4)\n",
    "\n",
    "params.hide()"
   ]
  },
  {
   "cell_type": "markdown",
   "metadata": {},
   "source": [
    "## Find size from filled contours using Trackpy\n",
    "\n",
    "Use Trackpy to find bubble size given the filled contours.\n"
   ]
  },
  {
   "cell_type": "code",
   "execution_count": null,
   "metadata": {
    "tags": [
     "hide-input"
    ]
   },
   "outputs": [],
   "source": [
    "if params.compare_with_trackpy:\n",
    "    tp_objects = (\n",
    "        batch(\n",
    "            frames=filled.values, diameter=params.guess_diameter, characterize=True\n",
    "        ).assign(\n",
    "            frame=lambda df: df.frame.replace(dict(enumerate(filled.frame.values)))\n",
    "        )\n",
    "    ).loc[:, params.trackpy_cols]\n",
    "else:\n",
    "    tp_objects = DataFrame()\n",
    "\n",
    "tp_objects"
   ]
  },
  {
   "cell_type": "markdown",
   "metadata": {},
   "source": [
    "## Find size from contours\n",
    "\n",
    "The prior approach throws out contour data, instead operating on filled contours. Instead, try using shapely to find size directly from contour data.\n",
    "\n",
    "### Prepare to find objects\n",
    "\n",
    "Prepare a dataframe with columns in a certain order, assign contour data to it, and demote the hiearchical indices to plain columns. Count the number of points in each contour and each frame, keeping only those which have enough points to describe a linear ring. Construct a GeoPandas geometry column and operate on it with Shapely to construct linear rings, returning centroids and the representative polygonal area. Also report the number of points in the loci of each contour per frame.\n"
   ]
  },
  {
   "cell_type": "code",
   "execution_count": null,
   "metadata": {
    "tags": [
     "hide-input"
    ]
   },
   "outputs": [],
   "source": [
    "contours = (\n",
    "    DataFrame(columns=[\"xpx\", \"ypx\"])\n",
    "    .assign(**contours_df.loc[IndexSlice[frames, :], :])\n",
    "    .rename(axis=\"columns\", mapper=dict(xpx=\"x\", ypx=\"y\"))\n",
    "    .reset_index()\n",
    "    .assign(\n",
    "        count=lambda df: df.groupby([\"frame\", \"contour\"], **GBC).x.transform(\"count\")\n",
    "    )\n",
    "    .query(\"count > 3\")\n",
    "    .assign(geometry=lambda df: points_from_xy(df.x, df.y))\n",
    "    .groupby([\"frame\", \"contour\"], **GBC)\n",
    "    .agg(\n",
    "        count=NamedAgg(column=\"count\", aggfunc=\"first\"),\n",
    "        centroid=NamedAgg(\n",
    "            column=\"geometry\", aggfunc=lambda df: LinearRing(df).centroid\n",
    "        ),\n",
    "        area=NamedAgg(column=\"geometry\", aggfunc=lambda df: Polygon(df).area),\n",
    "    )\n",
    "    .assign(\n",
    "        diameter_px=lambda df: sqrt(4 * df[\"area\"] / pi),\n",
    "        radius_of_gyration_px=lambda df: df[\"diameter_px\"] / 4,\n",
    "        size=lambda df: df[\"radius_of_gyration_px\"],\n",
    "    )\n",
    ")\n",
    "contours"
   ]
  },
  {
   "cell_type": "markdown",
   "metadata": {},
   "source": [
    "Split the centroid point objects into separate named columns that conform to the Trackpy convention. Report the centroids in each frame.\n"
   ]
  },
  {
   "cell_type": "code",
   "execution_count": null,
   "metadata": {
    "tags": [
     "hide-input"
    ]
   },
   "outputs": [],
   "source": [
    "outs = DfNbOuts(\n",
    "    df=(\n",
    "        GeoDataFrame(contours)\n",
    "        .assign(x=lambda df: df.centroid.x, y=lambda df: df.centroid.y)\n",
    "        .loc[:, params.cols]\n",
    "        .sort_values([\"frame\", \"y\", \"x\"], ignore_index=True)\n",
    "    )\n",
    ")\n",
    "outs.df"
   ]
  },
  {
   "cell_type": "markdown",
   "metadata": {},
   "source": [
    "## Compare approaches\n",
    "\n",
    "Compare Trackpy objects with contour objects. Here the guess radius for Trackpy object finding and contour perimeter filtering are matched to produce the same number of objects from each algorithm. Trackpy features more intelligent filtering, but takes much longer. Trackpy's approach for finding local maxima in grayscale images is applied even to binarized images, exhaustively searching for high points in the binary image, adding to execution time.\n",
    "\n",
    "The percent difference between the approaches is relatively low for this subset, suggesting the contour centroid approach is reasonable.\n",
    "\n",
    "A warm color palette is used to plot Trackpy objects, and a cool color palette is used to plot contour centroids.\n"
   ]
  },
  {
   "cell_type": "code",
   "execution_count": null,
   "metadata": {
    "tags": [
     "hide-input"
    ]
   },
   "outputs": [],
   "source": [
    "if params.compare_with_trackpy:\n",
    "    scatterplot(\n",
    "        ax=ax, data=tp_objects, x=\"x\", y=\"y\", alpha=0.6, color=\"red\", legend=False\n",
    "    )\n",
    "scatterplot(ax=ax, data=outs.df, x=\"x\", y=\"y\", alpha=0.6, color=\"blue\", legend=False)\n",
    "\n",
    "fig = ax.get_figure()\n",
    "fig"
   ]
  }
 ],
 "metadata": {
  "kernelspec": {
   "display_name": "Python 3 (ipykernel)",
   "language": "python",
   "name": "python3"
  },
  "language_info": {
   "codemirror_mode": {
    "name": "ipython",
    "version": 3
   },
   "file_extension": ".py",
   "mimetype": "text/x-python",
   "name": "python",
   "nbconvert_exporter": "python",
   "pygments_lexer": "ipython3",
   "version": "3.11.9"
  },
  "papermill": {
   "parameters": {
    "product": "C:/Users/Blake/Code/mine/boilercv/data/docs/study_the_fit_of_bubble_collapse_correlations/prove_the_concept/23-07-13T14_full_video.ipynb"
   }
  }
 },
 "nbformat": 4,
 "nbformat_minor": 2
}
