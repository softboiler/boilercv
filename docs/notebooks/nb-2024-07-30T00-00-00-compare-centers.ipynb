{
 "cells": [
  {
   "attachments": {},
   "cell_type": "markdown",
   "metadata": {
    "tags": []
   },
   "source": [
    "::::\n",
    ":::{thebe-button}\n",
    ":::\n",
    "::::\n",
    "\n",
    "# Compare centers\n",
    "\n",
    "Find bubble centers using two different approaches."
   ]
  },
  {
   "cell_type": "code",
   "execution_count": null,
   "metadata": {
    "tags": [
     "hide-input",
     "parameters",
     "thebe-init"
    ]
   },
   "outputs": [],
   "source": [
    "from boilercv_docs.nbs import init\n",
    "\n",
    "paths = init()\n",
    "\n",
    "from devtools import pprint\n",
    "from geopandas import GeoDataFrame, points_from_xy\n",
    "from matplotlib.figure import Figure\n",
    "from matplotlib.pyplot import subplot_mosaic\n",
    "from myst_nb import glue\n",
    "from pandas import DataFrame, IndexSlice, NamedAgg\n",
    "from seaborn import scatterplot\n",
    "from shapely import LinearRing\n",
    "\n",
    "from boilercv.data import VIDEO\n",
    "from boilercv.images import scale_bool\n",
    "from boilercv_docs.nbs import HIDE, nowarn, set_display_options\n",
    "from boilercv_pipeline.config import default\n",
    "from boilercv_pipeline.experiments.e230920_subcool import GBC, bounded_ax\n",
    "from boilercv_pipeline.models.notebooks import Notebooks\n",
    "from boilercv_pipeline.sets import get_contours_df, get_dataset\n",
    "\n",
    "default.__init__()  # noqa: PLC2801\n",
    "p = default.notebooks\n",
    "\n",
    "COMPARE_WITH_TRACKPY = True\n",
    "\"\"\"Whether to get centers using the Trackpy approach.\"\"\"\n",
    "\n",
    "YMIN = 0\n",
    "YMAX = 300\n",
    "XMIN = 140\n",
    "XMAX = 210\n",
    "\n",
    "GUESS_DIAMETER = 41\n",
    "\"\"\"Guess diameter for the Trackpy approach. (px)\"\"\"\n",
    "\n",
    "FIGURES: list[Figure] = []\n",
    "\"\"\"Notebook figures available for export.\"\"\"\n",
    "\n",
    "HIDE"
   ]
  },
  {
   "cell_type": "markdown",
   "metadata": {},
   "source": [
    "## Bubble contours over time\n",
    "\n",
    "Showing filled contours at a fixed frame interval illustrates bubbles rise and shrink as they depart the boiling surface. A small bubble that happens to be far from the surface at the beginning of the video also rises and continues to shrink, its origin presumed to have been at the boiling surface prior to the start of the video. In fact, bubbles generally grow and depart the surface at different times, and so a study of bubble histories must align these histories at their moment of departure from the boiling surface, and incomplete bubble histories filtered out."
   ]
  },
  {
   "cell_type": "code",
   "execution_count": null,
   "metadata": {
    "tags": [
     "hide-input",
     "remove-cell"
    ]
   },
   "outputs": [],
   "source": [
    "p = Notebooks.model_validate(p)\n",
    "set_display_options(p.font_scale)\n",
    "pprint(p)"
   ]
  },
  {
   "cell_type": "code",
   "execution_count": null,
   "metadata": {
    "tags": [
     "hide-input",
     "remove-output"
    ]
   },
   "outputs": [],
   "source": [
    "if COMPARE_WITH_TRACKPY:\n",
    "    with nowarn(capture=True):\n",
    "        from trackpy import batch, quiet\n",
    "\n",
    "    quiet()\n",
    "\n",
    "PATH_TIME = p.time.replace(\":\", \"-\")\n",
    "\"\"\"Timestamp suitable for paths.\n",
    "\n",
    "Also used in notebook parametrization.\n",
    "\"\"\"\n",
    "\n",
    "filled_contours = scale_bool(\n",
    "    get_dataset(PATH_TIME, stage=\"filled\", frame=p.frames).sel(\n",
    "        ypx=slice(YMIN, YMAX), xpx=slice(XMIN, XMAX)\n",
    "    )[VIDEO]\n",
    ")\n",
    "figure, axs = subplot_mosaic([[\"first_frame\", \"composite\"]])\n",
    "FIGURES.append(figure)\n",
    "with bounded_ax(\n",
    "    (composite := (filled_contours.max(\"frame\").values)),\n",
    "    axs[\"composite\"],  # pyright: ignore[reportArgumentType]\n",
    ") as composite_ax:  # pyright: ignore[reportArgumentType]\n",
    "    composite_ax.imshow(~composite, alpha=0.4)\n",
    "    xlim = composite_ax.get_xlim()\n",
    "    ylim = composite_ax.get_ylim()\n",
    "    composite_ax.set_xlabel(\"x (px)\")\n",
    "    composite_ax.set_ylabel(\"y (px)\")\n",
    "    axs[\"first_frame\"].imshow(  # pyright: ignore[reportArgumentType]\n",
    "        ~scale_bool(\n",
    "            get_dataset(\n",
    "                PATH_TIME, stage=\"large_sources\", frame=slice(None, 0, None)\n",
    "            ).sel(ypx=slice(YMIN, YMAX), xpx=slice(XMIN, XMAX))[VIDEO]\n",
    "        ).squeeze()\n",
    "    )\n",
    "    axs[\"first_frame\"].set_xlim(xlim)  # pyright: ignore[reportArgumentType]\n",
    "    axs[\"first_frame\"].set_ylim(ylim)  # pyright: ignore[reportArgumentType]\n",
    "    axs[\"first_frame\"].set_xlabel(\"x (px)\")  # pyright: ignore[reportArgumentType]\n",
    "    axs[\"first_frame\"].set_ylabel(\"y (px)\")  # pyright: ignore[reportArgumentType]"
   ]
  },
  {
   "cell_type": "code",
   "execution_count": null,
   "metadata": {
    "tags": [
     "hide-input",
     "remove-cell"
    ]
   },
   "outputs": [],
   "source": [
    "glue(\"nb-2024-07-30-compare-centers_composite\", figure, display=False)"
   ]
  },
  {
   "cell_type": "markdown",
   "metadata": {},
   "source": [
    "```{glue:figure} nb-2024-07-30-compare-centers_composite\n",
    ":name: fig.experiments.e230920_subcool.find_centers.composite\n",
    ":alt: Bubbles shown to rise and shrink. One bubble is shown starting above the others.\n",
    "\n",
    "Filled bubble contours at a constant frame interval indicating movement over time.\n",
    "```"
   ]
  },
  {
   "cell_type": "markdown",
   "metadata": {},
   "source": [
    "## Use Trackpy to find bubble centers\n",
    "\n",
    "Trackpy is a pure Python implementation of the Crocker-Grier algorithm for identifying and tracking objects {cite}`allanTrackpy2018,crockerMethodsDigitalVideo1996`. The general approach involves locating Gaussian-like blobs in each frame of a video, then linking nearest neighbors. Bubbles\n",
    "\n",
    "Compare experimental bubble histories to bubble history correlations. Bubble detection and linking performed by Trackpy, an implementation of the Crocker-Grier algorithm .\n"
   ]
  },
  {
   "cell_type": "code",
   "execution_count": null,
   "metadata": {
    "tags": [
     "hide-input"
    ]
   },
   "outputs": [],
   "source": [
    "if COMPARE_WITH_TRACKPY:\n",
    "    trackpy_centers = (\n",
    "        batch(\n",
    "            frames=filled_contours.values, diameter=GUESS_DIAMETER, characterize=False\n",
    "        )\n",
    "        .drop(columns=\"mass\")\n",
    "        .assign(\n",
    "            frame=lambda df: df.frame.replace(\n",
    "                dict(enumerate(filled_contours.frame.values))\n",
    "            )\n",
    "        )\n",
    "    )\n",
    "else:\n",
    "    trackpy_centers = DataFrame()\n",
    "\n",
    "trackpy_centers.rename(columns={\"frame\": \"Frame #\"}).set_index(\"Frame #\").rename_axis(\n",
    "    columns=\"Centroid\"\n",
    ")"
   ]
  },
  {
   "cell_type": "markdown",
   "metadata": {},
   "source": [
    "## Find centers from contour centroids\n",
    "\n",
    "The prior approach throws out contour data, instead operating on filled contours. Instead, try using Shapely to find centers directly from contour data.\n"
   ]
  },
  {
   "cell_type": "markdown",
   "metadata": {},
   "source": [
    "### Prepare to find objects\n",
    "\n",
    "Prepare a dataframe with columns in a certain order, assign contour data to it, and demote the hiearchical indices to plain columns. Count the number of points in each contour and each frame, keeping only those which have enough points to describe a linear ring. Construct a GeoPandas geometry column and operate on it with Shapely to construct linear rings, returning only their centroids. Also report the number of points in the loci of each contour per frame.\n",
    "\n",
    ":::{admonition} Implementation detail: `groupby` considerations  \n",
    ":class: dropdown note  \n",
    "`groupby` operations behave differently depending on the index, so resetting the index before grouping, and unpacking `GBC` to set sensible defaults for `groupby`'s keyword arguments, makes it behave less surprisingly. `GBC` enables `observed` and `sort`, and disables `as_index`, `dropna`, and `group_keys`.  \n",
    ":::"
   ]
  },
  {
   "cell_type": "code",
   "execution_count": null,
   "metadata": {
    "tags": [
     "hide-input"
    ]
   },
   "outputs": [],
   "source": [
    "contours = (\n",
    "    DataFrame(columns=[\"xpx\", \"ypx\"])\n",
    "    .assign(**get_contours_df(PATH_TIME).loc[IndexSlice[p.frames, :], :])\n",
    "    .rename(axis=\"columns\", mapper=dict(xpx=\"x\", ypx=\"y\"))\n",
    "    .reset_index()\n",
    "    .assign(\n",
    "        count=lambda df: df.groupby([\"frame\", \"contour\"], **GBC).x.transform(\"count\")\n",
    "    )\n",
    "    .query(\"count > 3\")\n",
    "    .assign(geometry=lambda df: points_from_xy(df.x, df.y))\n",
    "    .groupby([\"frame\", \"contour\"], **GBC)\n",
    "    .agg(\n",
    "        count=NamedAgg(column=\"count\", aggfunc=\"first\"),\n",
    "        centroid=NamedAgg(\n",
    "            column=\"geometry\", aggfunc=lambda df: LinearRing(df).centroid\n",
    "        ),\n",
    "    )\n",
    ")\n",
    "\n",
    "contours.set_index([\"frame\", \"contour\", \"count\"])"
   ]
  },
  {
   "cell_type": "markdown",
   "metadata": {},
   "source": [
    "Split the centroid point objects into separate named columns that conform to the Trackpy convention. Report the centroids in each frame.\n"
   ]
  },
  {
   "cell_type": "code",
   "execution_count": null,
   "metadata": {
    "tags": [
     "hide-input"
    ]
   },
   "outputs": [],
   "source": [
    "centers = (\n",
    "    GeoDataFrame(contours)\n",
    "    .assign(x=lambda df: df.centroid.x, y=lambda df: df.centroid.y)\n",
    "    .loc[:, [\"y\", \"x\", \"frame\"]]\n",
    "    .sort_values([\"frame\", \"y\", \"x\"], ignore_index=True)\n",
    "    .assign(x=lambda df: df.x - XMIN)\n",
    ")"
   ]
  },
  {
   "cell_type": "markdown",
   "metadata": {},
   "source": [
    "## Compare approaches\n",
    "\n",
    "Compare Trackpy centers with contour centroids. Here the guess radius for Trackpy object finding and contour perimeter filtering are matched to produce the same number of objects from each algorithm. Trackpy features more intelligent filtering, but takes much longer. Trackpy's approach for finding local maxima in grayscale images is applied even to binarized images, exhaustively searching for high points in the binary image, adding to execution time. A warm color palette is used to plot Trackpy centers, and a cool color palette is used to plot contour centroids."
   ]
  },
  {
   "cell_type": "code",
   "execution_count": null,
   "metadata": {
    "tags": [
     "hide-input",
     "remove-output"
    ]
   },
   "outputs": [],
   "source": [
    "if COMPARE_WITH_TRACKPY:\n",
    "    scatterplot(\n",
    "        ax=axs[\"composite\"],  # pyright: ignore[reportArgumentType]\n",
    "        data=trackpy_centers,\n",
    "        x=\"x\",\n",
    "        y=\"y\",\n",
    "        s=p.size,\n",
    "        alpha=0.5,\n",
    "        color=\"red\",\n",
    "        legend=False,\n",
    "    )\n",
    "scatterplot(\n",
    "    ax=axs[\"composite\"],  # pyright: ignore[reportArgumentType]\n",
    "    data=centers,\n",
    "    x=\"x\",\n",
    "    y=\"y\",\n",
    "    s=p.size,\n",
    "    alpha=0.5,\n",
    "    color=\"blue\",\n",
    "    legend=False,\n",
    ")\n",
    "\n",
    "figure"
   ]
  },
  {
   "cell_type": "code",
   "execution_count": null,
   "metadata": {
    "tags": [
     "hide-input",
     "remove-cell"
    ]
   },
   "outputs": [],
   "source": [
    "glue(\"nb-2024-07-30-compare-centers_compared\", figure, display=False)"
   ]
  },
  {
   "cell_type": "markdown",
   "metadata": {},
   "source": [
    "```{glue:figure} nb-2024-07-30-compare-centers_compared\n",
    ":name: fig.experiments.e230920_subcool.find_centers.compared\n",
    ":alt: Comparison of Trackpy and Shapely approaches to finding bubble centers.\n",
    "\n",
    "Comparison of Trackpy and Shapely approaches to finding bubble centers.\n",
    "```"
   ]
  }
 ],
 "metadata": {
  "kernelspec": {
   "display_name": "Python 3 (ipykernel)",
   "language": "python",
   "name": "python3"
  },
  "language_info": {
   "codemirror_mode": {
    "name": "ipython",
    "version": 3
   },
   "file_extension": ".py",
   "mimetype": "text/x-python",
   "name": "python",
   "nbconvert_exporter": "python",
   "pygments_lexer": "ipython3",
   "version": "3.11.9"
  },
  "papermill": {
   "parameters": {
    "product": "C:/Users/Blake/Code/mine/boilercv/data/docs/study_the_fit_of_bubble_collapse_correlations/prove_the_concept/23-07-13T14_full_video.ipynb"
   }
  }
 },
 "nbformat": 4,
 "nbformat_minor": 2
}
