{
 "cells": [
  {
   "attachments": {},
   "cell_type": "markdown",
   "metadata": {
    "tags": []
   },
   "source": [
    "::::\n",
    ":::{thebe-button}\n",
    ":::\n",
    "::::\n",
    "\n",
    "# Get mean absolute error\n"
   ]
  },
  {
   "cell_type": "code",
   "execution_count": null,
   "metadata": {
    "tags": [
     "hide-input",
     "parameters",
     "thebe-init"
    ]
   },
   "outputs": [],
   "source": [
    "from boilercv_pipeline.models.subcool import const\n",
    "from boilercv_pipeline.stages import find_tracks\n",
    "from boilercv_pipeline.stages.find_tracks import D\n",
    "from boilercv_pipeline.stages.get_mae import GetMae as Params\n",
    "from dev.docs.nbs import init\n",
    "from devtools import pprint\n",
    "from IPython.display import Markdown, display\n",
    "from more_itertools import one\n",
    "from pandas import read_hdf"
   ]
  },
  {
   "cell_type": "code",
   "execution_count": null,
   "metadata": {
    "tags": [
     "hide-input"
    ]
   },
   "outputs": [],
   "source": [
    "PARAMS = None\n",
    "if isinstance(PARAMS, str):\n",
    "    params = Params.model_validate_json(PARAMS)\n",
    "else:\n",
    "    params = Params(context=init(), include_patterns=const.nb_include_patterns)\n",
    "params.set_display_options()\n",
    "data = params.data\n",
    "C = params.cols\n",
    "context = params.context\n",
    "tracks_path = one(params.tracks)\n",
    "BC = find_tracks.Cols()\n",
    "\n",
    "pprint(params)"
   ]
  },
  {
   "cell_type": "code",
   "execution_count": null,
   "metadata": {
    "tags": [
     "hide-input"
    ]
   },
   "outputs": [],
   "source": [
    "for key in D.model_dump().values():\n",
    "    display(Markdown(f\"## {key}\"))\n",
    "    params.preview(read_hdf(tracks_path, key))"
   ]
  }
 ],
 "metadata": {
  "kernelspec": {
   "display_name": "Python 3 (ipykernel)",
   "language": "python",
   "name": "python3"
  },
  "language_info": {
   "codemirror_mode": {
    "name": "ipython",
    "version": 3
   },
   "file_extension": ".py",
   "mimetype": "text/x-python",
   "name": "python",
   "nbconvert_exporter": "python",
   "pygments_lexer": "ipython3",
   "version": "3.11.10"
  },
  "papermill": {
   "parameters": {
    "product": "C:/Users/Blake/Code/mine/boilercv/data/docs/study_the_fit_of_bubble_collapse_correlations/prove_the_concept/23-07-13T14_full_video.ipynb"
   }
  }
 },
 "nbformat": 4,
 "nbformat_minor": 2
}
