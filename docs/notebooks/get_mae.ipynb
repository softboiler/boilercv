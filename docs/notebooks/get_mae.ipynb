{
 "cells": [
  {
   "attachments": {},
   "cell_type": "markdown",
   "metadata": {
    "tags": []
   },
   "source": [
    "::::\n",
    ":::{thebe-button}\n",
    ":::\n",
    "::::\n",
    "\n",
    "# Get mean absolute error\n"
   ]
  },
  {
   "cell_type": "code",
   "execution_count": null,
   "metadata": {
    "tags": [
     "hide-input",
     "parameters",
     "thebe-init"
    ]
   },
   "outputs": [],
   "source": [
    "from collections.abc import Iterable\n",
    "from inspect import Signature\n",
    "\n",
    "from boilercv_pipeline.models.column import Col\n",
    "from boilercv_pipeline.models.df import GBC\n",
    "from boilercv_pipeline.models.subcool import const\n",
    "from boilercv_pipeline.palettes import cat10\n",
    "from boilercv_pipeline.stages import find_tracks, get_thermal_data\n",
    "from boilercv_pipeline.stages.get_mae import GetMae as Params\n",
    "from dev.docs.nbs import init\n",
    "from devtools import pprint\n",
    "from matplotlib.pyplot import subplots\n",
    "from more_itertools import one\n",
    "from numpy import inf, nan, pi\n",
    "from pandas import DataFrame, Series, merge_ordered, read_hdf\n",
    "from seaborn import scatterplot\n",
    "\n",
    "from boilercv.correlations import GROUPS, beta\n",
    "from boilercv.correlations import nusselt as correlations_nusselt\n",
    "from boilercv.dimensionless_params import jakob, prandtl, thermal_diffusivity\n",
    "\n",
    "PARAMS = None"
   ]
  },
  {
   "cell_type": "code",
   "execution_count": null,
   "metadata": {
    "tags": [
     "hide-input"
    ]
   },
   "outputs": [],
   "source": [
    "from datetime import datetime\n",
    "\n",
    "from boilercore.paths import ISOLIKE, dt_fromisolike\n",
    "\n",
    "if isinstance(PARAMS, str):\n",
    "    params = Params.model_validate_json(PARAMS)\n",
    "else:\n",
    "    params = Params(context=init(), include_patterns=const.nb_include_patterns)\n",
    "params.format.set_display_options()\n",
    "data = params.data\n",
    "C = params.cols\n",
    "context = params.context\n",
    "\n",
    "# Physical parameters\n",
    "LATENT_HEAT_OF_VAPORIZATION = 2.23e6  # J/kg\n",
    "LIQUID_DENSITY = 960  # kg/m^3\n",
    "LIQUID_DYNAMIC_VISCOSITY = 2.88e-4  # Pa-s\n",
    "LIQUID_ISOBARIC_SPECIFIC_HEAT = 4213  # J/kg-K\n",
    "LIQUID_THERMAL_CONDUCTIVITY = 0.676  # W/m-K\n",
    "VAPOR_DENSITY = 0.804  # kg/m^3\n",
    "\n",
    "\n",
    "# Plotting\n",
    "CORRELATIONS_PALETTE = cat10\n",
    "\"\"\"For plotting one approach.\"\"\"\n",
    "\n",
    "# Plotting\n",
    "MAX_BETA_MAE = 0.3\n",
    "\"\"\"Maximum mean absolute error of beta to plot.\"\"\"\n",
    "MAX_NUSSELT_MAE = 4000\n",
    "\"\"\"Maximum mean absolute error of nusselt to plot.\"\"\"\n",
    "WIDTH_SCALE = 2.00\n",
    "\"\"\"Width scale for plotting.\"\"\"\n",
    "HEIGHT_SCALE = 1.30\n",
    "\"\"\"Height scale for plotting.\"\"\"\n",
    "\n",
    "tracks_path = one(params.tracks)\n",
    "BC = find_tracks.Cols()\n",
    "tracks = (\n",
    "    DataFrame(read_hdf(tracks_path))\n",
    "    .pipe(lambda df: df[df[BC.bub_fourier()] > 0])[\n",
    "        [\n",
    "            BC.bub(),\n",
    "            BC.bub_reynolds(),\n",
    "            BC.bub_reynolds0(),\n",
    "            BC.bub_fourier(),\n",
    "            BC.bub_beta(),\n",
    "            BC.bub_nusselt(),\n",
    "        ]\n",
    "    ]\n",
    "    .set_index(BC.bub())\n",
    "    .pipe(\n",
    "        lambda df: df[\n",
    "            (df[BC.bub_beta()] > 0.05 * df[BC.bub_beta()].max())\n",
    "            & (df[BC.bub_nusselt()] > 0.05 * df[BC.bub_nusselt()].max())\n",
    "        ]\n",
    "    )\n",
    ")\n",
    "\n",
    "\n",
    "def get_time() -> datetime:\n",
    "    \"\"\"Get time from path.\"\"\"\n",
    "    if match := ISOLIKE.search(tracks_path.stem):\n",
    "        return dt_fromisolike(match)\n",
    "    else:\n",
    "        raise ValueError(\"No time found in path.\")\n",
    "\n",
    "\n",
    "time = get_time()\n",
    "thermal = read_hdf(params.deps.thermal)\n",
    "TC = get_thermal_data.Cols()\n",
    "subcooling = thermal.set_index(TC.time())[TC.subcool()][time]\n",
    "\n",
    "beta_correlations = beta.get_correlations()\n",
    "nusselt_correlations = correlations_nusselt.get_correlations()\n",
    "object_averages = tracks.groupby(BC.bub(), **GBC).mean().mean()\n",
    "constants = {\n",
    "    \"Ja\": jakob(\n",
    "        liquid_density=LIQUID_DENSITY,\n",
    "        vapor_density=VAPOR_DENSITY,\n",
    "        liquid_isobaric_specific_heat=LIQUID_ISOBARIC_SPECIFIC_HEAT,\n",
    "        subcooling=subcooling,\n",
    "        latent_heat_of_vaporization=LATENT_HEAT_OF_VAPORIZATION,\n",
    "    ),\n",
    "    \"Pr\": prandtl(\n",
    "        dynamic_viscosity=LIQUID_DYNAMIC_VISCOSITY,\n",
    "        isobaric_specific_heat=LIQUID_ISOBARIC_SPECIFIC_HEAT,\n",
    "        thermal_conductivity=LIQUID_THERMAL_CONDUCTIVITY,\n",
    "    ),\n",
    "    \"alpha\": thermal_diffusivity(\n",
    "        thermal_conductivity=LIQUID_THERMAL_CONDUCTIVITY,\n",
    "        density=LIQUID_DENSITY,\n",
    "        isobaric_specific_heat=LIQUID_ISOBARIC_SPECIFIC_HEAT,\n",
    "    ),\n",
    "    \"pi\": pi,\n",
    "}\n",
    "\n",
    "\n",
    "def get_mae(df: DataFrame, kind: str, rel: bool = False) -> \"Series[float]\":\n",
    "    \"\"\"Get mean absolute error for dimensionless bubble diameter.\n",
    "\n",
    "    Get mean absolute percentage error if `rel`.\n",
    "    \"\"\"\n",
    "    df = (\n",
    "        df.assign(**{\n",
    "            label: (\n",
    "                abs(\n",
    "                    (\n",
    "                        (\n",
    "                            corr.expr(**{\n",
    "                                kwd: value\n",
    "                                for kwd, value in {\n",
    "                                    **constants,\n",
    "                                    \"Re_b\": df[BC.bub_reynolds()],\n",
    "                                    \"Re_b0\": df[BC.bub_reynolds0()],\n",
    "                                    \"Fo_0\": df[BC.bub_fourier()],\n",
    "                                    **(\n",
    "                                        {}\n",
    "                                        if kind == \"beta\"\n",
    "                                        else {\"beta\": df[BC.bub_beta()]}\n",
    "                                    ),\n",
    "                                }.items()\n",
    "                                if kwd in Signature.from_callable(corr.expr).parameters\n",
    "                            })\n",
    "                        )\n",
    "                        - df[\"experimental\"]\n",
    "                    )\n",
    "                    / (df[\"experimental\"] if rel else 1)\n",
    "                )\n",
    "            )\n",
    "            for label, corr in (\n",
    "                beta_correlations if kind == \"beta\" else nusselt_correlations\n",
    "            ).items()\n",
    "        })\n",
    "        .drop(\n",
    "            columns=[\n",
    "                \"experimental\",\n",
    "                BC.bub_reynolds(),\n",
    "                BC.bub_reynolds0(),\n",
    "                BC.bub_fourier(),\n",
    "                BC.bub_nusselt() if kind == \"beta\" else BC.bub_beta(),\n",
    "            ]\n",
    "        )\n",
    "        .replace(inf, nan)\n",
    "        .dropna()\n",
    "    )\n",
    "    return df.sum() / len(df)\n",
    "\n",
    "\n",
    "def preview(\n",
    "    df: DataFrame, cols: Iterable[Col] | None = None, index: Col | None = None\n",
    ") -> DataFrame:\n",
    "    \"\"\"Preview a dataframe in the notebook.\"\"\"\n",
    "    df = params.format.preview(cols=cols, df=df, index=index, f=lambda df: df.head(16))\n",
    "    return df\n",
    "\n",
    "\n",
    "pprint(params)"
   ]
  },
  {
   "cell_type": "code",
   "execution_count": null,
   "metadata": {
    "tags": [
     "hide-input"
    ]
   },
   "outputs": [],
   "source": [
    "beta_mae = preview(\n",
    "    tracks.rename(columns={BC.bub_beta(): \"experimental\"})\n",
    "    .groupby(BC.bub(), **GBC)\n",
    "    .apply(lambda df: get_mae(df, kind=\"beta\"))\n",
    "    .rename_axis(index=BC.bub())\n",
    "    .reset_index()\n",
    ")"
   ]
  },
  {
   "cell_type": "code",
   "execution_count": null,
   "metadata": {
    "tags": [
     "hide-input"
    ]
   },
   "outputs": [],
   "source": [
    "nusselt_mae = preview(\n",
    "    tracks.rename(columns={BC.bub_nusselt(): \"experimental\"})\n",
    "    .groupby(BC.bub(), **GBC)\n",
    "    .apply(lambda df: get_mae(df, kind=\"nusselt\", rel=False))\n",
    "    .rename_axis(index=BC.bub())\n",
    "    .reset_index()\n",
    ")"
   ]
  },
  {
   "cell_type": "code",
   "execution_count": null,
   "metadata": {
    "tags": [
     "hide-input"
    ]
   },
   "outputs": [],
   "source": [
    "maes = preview(\n",
    "    merge_ordered(\n",
    "        beta_mae.set_index(BC.bub()).melt(\n",
    "            var_name=\"Correlation\", value_name=\"Beta (MAE)\", ignore_index=False\n",
    "        ),\n",
    "        nusselt_mae.set_index(BC.bub()).melt(\n",
    "            var_name=\"Correlation\", value_name=\"Nusselt (MAE)\", ignore_index=False\n",
    "        ),\n",
    "        on=[BC.bub(), \"Correlation\"],\n",
    "    )\n",
    "    .assign(**{\"Group\": lambda df: df[\"Correlation\"].map(GROUPS)})\n",
    "    .sort_values(\"Group\")\n",
    ")"
   ]
  },
  {
   "cell_type": "code",
   "execution_count": null,
   "metadata": {
    "tags": [
     "hide-input"
    ]
   },
   "outputs": [],
   "source": [
    "figure, ax = subplots()\n",
    "ax.set_xlim(0, MAX_BETA_MAE)\n",
    "ax.set_ylim(0, MAX_NUSSELT_MAE)\n",
    "scatterplot(\n",
    "    ax=ax,\n",
    "    x=\"Beta (MAE)\",\n",
    "    y=\"Nusselt (MAE)\",\n",
    "    hue=\"Correlation\",\n",
    "    palette=CORRELATIONS_PALETTE,\n",
    "    s=params.format.size,\n",
    "    data=maes,\n",
    ")\n",
    "figure.set_figwidth(WIDTH_SCALE * figure.get_figwidth())\n",
    "figure.set_figheight(HEIGHT_SCALE * figure.get_figheight())"
   ]
  },
  {
   "cell_type": "code",
   "execution_count": null,
   "metadata": {
    "tags": [
     "hide-input"
    ]
   },
   "outputs": [],
   "source": [
    "figure, ax = subplots()\n",
    "ax.set_xlim(0, MAX_BETA_MAE)\n",
    "ax.set_ylim(0, MAX_NUSSELT_MAE)\n",
    "scatterplot(\n",
    "    ax=ax,\n",
    "    x=\"Beta (MAE)\",\n",
    "    y=\"Nusselt (MAE)\",\n",
    "    hue=\"Group\",\n",
    "    palette=CORRELATIONS_PALETTE,\n",
    "    s=params.format.size,\n",
    "    data=maes,\n",
    ")\n",
    "figure.set_figwidth(WIDTH_SCALE * figure.get_figwidth())\n",
    "figure.set_figheight(HEIGHT_SCALE * figure.get_figheight())"
   ]
  },
  {
   "cell_type": "code",
   "execution_count": null,
   "metadata": {
    "tags": [
     "hide-input"
    ]
   },
   "outputs": [],
   "source": [
    "mae = (\n",
    "    DataFrame([\n",
    "        (\n",
    "            tracks.rename(columns={BC.bub_beta(): \"experimental\"})\n",
    "            .pipe(get_mae, \"beta\")\n",
    "            .rename(\"Beta (MAE)\")\n",
    "        ),\n",
    "        (\n",
    "            tracks.rename(columns={BC.bub_nusselt(): \"experimental\"})\n",
    "            .pipe(get_mae, \"nusselt\", rel=False)\n",
    "            .rename(\"Nusselt (MAE)\")\n",
    "        ),\n",
    "    ])\n",
    "    .T.rename_axis(index=\"Correlation\")\n",
    "    .assign(**{\"subcooling\": subcooling})\n",
    ")\n",
    "\n",
    "mae"
   ]
  }
 ],
 "metadata": {
  "kernelspec": {
   "display_name": "Python 3 (ipykernel)",
   "language": "python",
   "name": "python3"
  },
  "language_info": {
   "codemirror_mode": {
    "name": "ipython",
    "version": 3
   },
   "file_extension": ".py",
   "mimetype": "text/x-python",
   "name": "python",
   "nbconvert_exporter": "python",
   "pygments_lexer": "ipython3",
   "version": "3.12.3"
  },
  "papermill": {
   "parameters": {
    "product": "C:/Users/Blake/Code/mine/boilercv/data/docs/study_the_fit_of_bubble_collapse_correlations/prove_the_concept/23-07-13T14_full_video.ipynb"
   }
  }
 },
 "nbformat": 4,
 "nbformat_minor": 2
}
