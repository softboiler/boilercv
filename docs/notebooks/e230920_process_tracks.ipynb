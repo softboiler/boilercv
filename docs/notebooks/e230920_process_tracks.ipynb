{
 "cells": [
  {
   "attachments": {},
   "cell_type": "markdown",
   "metadata": {
    "tags": []
   },
   "source": [
    "::::\n",
    ":::{thebe-button}\n",
    ":::\n",
    "::::\n",
    "\n",
    "# Process tracks\n"
   ]
  },
  {
   "cell_type": "code",
   "execution_count": null,
   "metadata": {
    "tags": [
     "hide-input",
     "parameters",
     "thebe-init"
    ]
   },
   "outputs": [],
   "source": [
    "from dev.docs.nbs import init\n",
    "\n",
    "paths = init()\n",
    "\n",
    "from boilercv_pipeline.experiments.e230920_subcool import (\n",
    "    GBC,\n",
    "    OBJECTS,\n",
    "    THERMAL_DATA,\n",
    "    TRACKS,\n",
    ")\n",
    "from boilercv_pipeline.sets import get_dataset\n",
    "from dev.docs.nbs import HIDE\n",
    "from matplotlib.figure import Figure\n",
    "from numpy import diff, gradient\n",
    "from pandas import DataFrame, Series, read_hdf\n",
    "\n",
    "from boilercv.dimensionless_params import (\n",
    "    fourier,\n",
    "    kinematic_viscosity,\n",
    "    nusselt,\n",
    "    reynolds,\n",
    "    thermal_diffusivity,\n",
    ")\n",
    "\n",
    "S = Series\n",
    "\"\"\"Pandas series.\"\"\"\n",
    "TIME = \"2023-09-20T17:14:18\"\n",
    "\"\"\"Timestamp of the trial to be analyzed.\"\"\"\n",
    "FIGURES: list[Figure] = []\n",
    "\"\"\"Notebook figures available for export.\"\"\"\n",
    "\n",
    "# Track tuning\n",
    "YPX_SURFACE_THRESHOLD = 400\n",
    "\"\"\"Vertical position of bubble centroids considered attached to the surface.\"\"\"\n",
    "YPX_DEPARTURE_THRESHOLD = 420\n",
    "\"\"\"Vertical position of bubble centroids considered to have departed the surface.\"\"\"\n",
    "MINIMUM_LIFETIME = 0.010  # (s)\n",
    "\"\"\"Minimum bubble lifetime to consider.\"\"\"\n",
    "\n",
    "# Physical parameters\n",
    "LATENT_HEAT_OF_VAPORIZATION = 2.23e6  # J/kg\n",
    "LIQUID_DENSITY = 960  # kg/m^3\n",
    "LIQUID_DYNAMIC_VISCOSITY = 2.88e-4  # Pa-s\n",
    "LIQUID_ISOBARIC_SPECIFIC_HEAT = 4213  # J/kg-K\n",
    "LIQUID_THERMAL_CONDUCTIVITY = 0.676  # W/m-K\n",
    "VAPOR_DENSITY = 0.804  # kg/m^3\n",
    "\n",
    "HIDE"
   ]
  },
  {
   "cell_type": "markdown",
   "metadata": {},
   "source": [
    "## Aligning bubble departures\n",
    "\n",
    "Exclude bubbles that did not originate from the boiling surface, or that had already departed the surface at the time of recording. Consider a bubble to have departed the surface when its centroid crosses a departure threshold which is about one average bubble diameter above the boiling surface. Define the origin for time of departure for each bubble in this fashion. The resulting time history in **Figure&NonBreakingSpace;2** shows bubble depth, velocity, and diameter for the remainder of its visible lifetime.\n",
    "\n",
    "Most bubbles rise and collapse at similar rates. Two bubbles rise slower than the rest, but seem to collapse at about the same rate as others.\n"
   ]
  },
  {
   "cell_type": "code",
   "execution_count": null,
   "metadata": {
    "tags": [
     "hide-input"
    ]
   },
   "outputs": [],
   "source": [
    "path_time = TIME.replace(\":\", \"-\")\n",
    "frametime = diff(get_dataset(path_time, stage=\"filled\")[\"video\"].time.values).mean()\n",
    "objects: DataFrame = read_hdf((OBJECTS / f\"objects_{path_time}\").with_suffix(\".h5\"))  # pyright: ignore[reportAssignmentType]\n",
    "thermal_data = read_hdf(THERMAL_DATA)\n",
    "subcooling = thermal_data.subcool[TIME]\n",
    "minimum_frame_lifetime = int(MINIMUM_LIFETIME // frametime)\n",
    "raw_tracks: DataFrame = read_hdf((TRACKS / f\"tracks_{path_time}\").with_suffix(\".h5\"))  # pyright: ignore[reportAssignmentType]\n",
    "\n",
    "\n",
    "def get_init(ser: S) -> float:\n",
    "    \"\"\"Get initial value of a series.\"\"\"\n",
    "    return ser.head(minimum_frame_lifetime).mean()\n",
    "\n",
    "\n",
    "long_lived_objects = raw_tracks.query(f\"frame_lifetime > {minimum_frame_lifetime}\")\n",
    "departing_long_lived_objects = (\n",
    "    # Find rows corresponding to stagnant or invalid bubbles\n",
    "    long_lived_objects.groupby(\"bubble\", **GBC)\n",
    "    .apply(\n",
    "        # Don't assign any other columns until invalid rows have been filtered out\n",
    "        lambda df: df.assign(\n",
    "            yinit_px=lambda df: df[\"y_px\"].pipe(get_init),\n",
    "            # Initial y position is close to the surface\n",
    "            began=lambda df: df[\"yinit_px\"] > YPX_SURFACE_THRESHOLD,\n",
    "            # When the bubble gets far enough away from the surface\n",
    "            departed=lambda df: df[\"y_px\"] < YPX_DEPARTURE_THRESHOLD,\n",
    "        )\n",
    "    )\n",
    "    # Filter out invalid rows and drop the columns used to determine validity\n",
    "    .pipe(lambda df: df[df[\"began\"] & df[\"departed\"]])\n",
    "    .drop(columns=[\"began\", \"departed\"])\n",
    "    # Groupby again after filtering out invalid rows\n",
    "    .groupby(\"bubble\", **GBC)\n",
    "    # Now columns that depend on the initial row (*.iat[0]) can be assigned\n",
    "    .apply(\n",
    "        lambda df: df.assign(\n",
    "            frame=lambda df: df[\"frame\"] - df[\"frame\"].pipe(get_init),\n",
    "            time=lambda df: df[\"time\"] - df[\"time\"].pipe(get_init),\n",
    "            frame_lifetime=lambda df: df[\"frame\"].iat[-1] - df[\"frame\"].pipe(get_init),\n",
    "            lifetime=lambda df: df[\"frame_lifetime\"] * frametime,\n",
    "            y_init=lambda df: df[\"y\"].pipe(get_init),\n",
    "            x_init=lambda df: df[\"x\"].pipe(get_init),\n",
    "            init_diameter=lambda df: df[\"diameter\"].pipe(get_init),\n",
    "            dy_init=lambda df: df[\"dy\"].pipe(get_init),\n",
    "            dy_init_px=lambda df: df[\"dy\"].pipe(get_init),\n",
    "            max_diameter=lambda df: df[\"diameter\"].max(),\n",
    "            diameter_rate_of_change=lambda df: gradient(df[\"diameter\"], df[\"time\"]),\n",
    "        )\n",
    "    )\n",
    ")\n",
    "processed_tracks = departing_long_lived_objects.assign(**{\n",
    "    \"Re_b\": lambda df: reynolds(\n",
    "        velocity=abs(df[\"dy\"]),\n",
    "        characteristic_length=df[\"diameter\"],\n",
    "        kinematic_viscosity=kinematic_viscosity(\n",
    "            density=LIQUID_DENSITY, dynamic_viscosity=LIQUID_DYNAMIC_VISCOSITY\n",
    "        ),\n",
    "    ),\n",
    "    \"Re_b0\": (\n",
    "        lambda df: df.loc[:, [\"bubble\", \"Re_b\"]]\n",
    "        .groupby(\"bubble\", **GBC)\n",
    "        .transform(get_init)\n",
    "    ),\n",
    "    \"Fo_0\": fourier(\n",
    "        initial_bubble_diameter=departing_long_lived_objects[\"init_diameter\"],\n",
    "        liquid_thermal_diffusivity=thermal_diffusivity(\n",
    "            thermal_conductivity=LIQUID_THERMAL_CONDUCTIVITY,\n",
    "            density=LIQUID_DENSITY,\n",
    "            isobaric_specific_heat=LIQUID_ISOBARIC_SPECIFIC_HEAT,\n",
    "        ),\n",
    "        time=departing_long_lived_objects[\"time\"],\n",
    "    ),\n",
    "    \"Nu_c\": nusselt(\n",
    "        heat_transfer_coefficient=-(\n",
    "            2\n",
    "            * VAPOR_DENSITY\n",
    "            * LATENT_HEAT_OF_VAPORIZATION\n",
    "            / subcooling\n",
    "            * departing_long_lived_objects[\"diameter_rate_of_change\"]\n",
    "        ),\n",
    "        characteristic_length=departing_long_lived_objects[\"diameter\"],\n",
    "        thermal_conductivity=LIQUID_THERMAL_CONDUCTIVITY,\n",
    "    ),\n",
    "    \"beta\": (lambda df: df[\"diameter\"] / df[\"init_diameter\"]),\n",
    "}).query(\"Fo_0 > 0\")"
   ]
  }
 ],
 "metadata": {
  "kernelspec": {
   "display_name": "Python 3 (ipykernel)",
   "language": "python",
   "name": "python3"
  },
  "language_info": {
   "codemirror_mode": {
    "name": "ipython",
    "version": 3
   },
   "file_extension": ".py",
   "mimetype": "text/x-python",
   "name": "python",
   "nbconvert_exporter": "python",
   "pygments_lexer": "ipython3",
   "version": "3.11.9"
  },
  "papermill": {
   "parameters": {
    "product": "C:/Users/Blake/Code/mine/boilercv/data/docs/study_the_fit_of_bubble_collapse_correlations/prove_the_concept/23-07-13T14_full_video.ipynb"
   }
  }
 },
 "nbformat": 4,
 "nbformat_minor": 2
}
