{
 "cells": [
  {
   "attachments": {},
   "cell_type": "markdown",
   "metadata": {
    "tags": []
   },
   "source": [
    "::::\n",
    ":::{thebe-button}\n",
    ":::\n",
    "::::\n",
    "\n",
    "# Find objects\n",
    "\n",
    "Find bubble size using two different approaches.\n"
   ]
  },
  {
   "cell_type": "code",
   "execution_count": null,
   "metadata": {
    "tags": [
     "hide-input",
     "parameters",
     "thebe-init"
    ]
   },
   "outputs": [],
   "source": [
    "from collections.abc import Iterable\n",
    "\n",
    "from devtools import pprint\n",
    "from geopandas import GeoDataFrame, points_from_xy\n",
    "from matplotlib.pyplot import subplots\n",
    "from more_itertools import one, only\n",
    "from numpy import pi, sqrt\n",
    "from pandas import DataFrame, IndexSlice, NamedAgg, concat\n",
    "from seaborn import scatterplot\n",
    "from shapely import LinearRing, Polygon\n",
    "\n",
    "from boilercv.data import FRAME, VIDEO\n",
    "from boilercv.images import scale_bool\n",
    "from boilercv_docs.nbs import init\n",
    "from boilercv_pipeline.images import bounded_ax\n",
    "from boilercv_pipeline.models.column import Col, rename\n",
    "from boilercv_pipeline.models.deps import get_slices\n",
    "from boilercv_pipeline.models.df import GBC, agg\n",
    "from boilercv_pipeline.models.params import Format\n",
    "from boilercv_pipeline.models.subcool import const\n",
    "from boilercv_pipeline.sets import get_contours_df2, get_dataset2\n",
    "from boilercv_pipeline.stages.find_objects import FindObjects as Params\n",
    "\n",
    "PARAMS = None"
   ]
  },
  {
   "cell_type": "code",
   "execution_count": null,
   "metadata": {
    "tags": [
     "hide-input",
     "hide-output"
    ]
   },
   "outputs": [],
   "source": [
    "if isinstance(PARAMS, str):\n",
    "    params = Params.model_validate_json(PARAMS)\n",
    "else:\n",
    "    params = Params(\n",
    "        context=init(),\n",
    "        compare_with_trackpy=True,\n",
    "        include_patterns=const.nb_include_patterns,\n",
    "        slicer_patterns=const.nb_slicer_patterns,\n",
    "    )\n",
    "params.format.set_display_options()\n",
    "data = params.data\n",
    "C = params.cols\n",
    "context = params.context\n",
    "contours = get_contours_df2(one(params.contours))\n",
    "slices = get_slices(one(params.filled_slicers))\n",
    "frames = slices.get(FRAME, slice(None))\n",
    "filled = scale_bool(get_dataset2(one(params.filled), slices=slices)[VIDEO])\n",
    "dfs = only(params.dfs)\n",
    "\n",
    "PALETTE = {C.approach_tp.val: \"red\", C.approach.val: \"blue\"}\n",
    "IMSHOW_FORMAT = Format(scale=1.0)\n",
    "\n",
    "\n",
    "def preview(\n",
    "    df: DataFrame, cols: Iterable[Col] | None = None, index: Col | None = None\n",
    ") -> DataFrame:\n",
    "    \"\"\"Preview a dataframe in the notebook.\"\"\"\n",
    "    df = params.format.preview(\n",
    "        cols=cols,\n",
    "        df=df,\n",
    "        index=index,\n",
    "        f=lambda df: df.groupby(C.frame(), **GBC).head(3).head(6),\n",
    "    )\n",
    "    return df\n",
    "\n",
    "\n",
    "pprint(params)"
   ]
  },
  {
   "cell_type": "markdown",
   "metadata": {},
   "source": [
    "## Data\n",
    "\n",
    "Load a video of filled contours and the contour loci and plot a composite of all frames to analyze.\n"
   ]
  },
  {
   "cell_type": "code",
   "execution_count": null,
   "metadata": {
    "tags": [
     "hide-input"
    ]
   },
   "outputs": [],
   "source": [
    "data.plots.composite, ax = subplots()\n",
    "composite_video = filled.max(FRAME).values\n",
    "with params.format.display_options(IMSHOW_FORMAT), bounded_ax(composite_video, ax=ax):\n",
    "    ax.imshow(~composite_video, alpha=0.4)\n",
    "    ax.set_xlabel(C.x.latex)\n",
    "    ax.set_ylabel(C.y.latex)"
   ]
  },
  {
   "cell_type": "markdown",
   "metadata": {},
   "source": [
    "## Find size from filled contours using Trackpy\n",
    "\n",
    "Use Trackpy to find bubble size given the filled contours.\n"
   ]
  },
  {
   "cell_type": "code",
   "execution_count": null,
   "metadata": {
    "tags": [
     "hide-input"
    ]
   },
   "outputs": [],
   "source": [
    "if params.compare_with_trackpy:\n",
    "    from trackpy import batch, quiet\n",
    "\n",
    "    quiet()\n",
    "\n",
    "    data.dfs.trackpy = preview(\n",
    "        cols=C.trackpy,\n",
    "        df=batch(\n",
    "            frames=filled.values, diameter=params.guess_diameter, characterize=True\n",
    "        )\n",
    "        .pipe(C.frame.rename)\n",
    "        .assign(**{\n",
    "            C.frame(): lambda df: df[C.frame()].replace(\n",
    "                dict(enumerate(filled.frame.values))\n",
    "            )\n",
    "        })\n",
    "        .pipe(rename, C.trackpy)[[c() for c in C.trackpy]],\n",
    "    )"
   ]
  },
  {
   "cell_type": "markdown",
   "metadata": {},
   "source": [
    "## Find size from contours\n",
    "\n",
    "The prior approach throws out contour data, instead operating on filled contours. Instead, try using shapely to find size directly from contour data.\n",
    "\n",
    "### Prepare to find objects\n",
    "\n",
    "Prepare a dataframe with columns in a certain order, assign contour data to it, and demote the hiearchical indices to plain columns. Count the number of points in each contour and each frame, keeping only those which have enough points to describe a linear ring. Construct a GeoPandas geometry column and operate on it with Shapely to construct linear rings, returning centroids and the representative polygonal area. Also report the number of points in the loci of each contour per frame.\n"
   ]
  },
  {
   "cell_type": "code",
   "execution_count": null,
   "metadata": {
    "tags": [
     "hide-input"
    ]
   },
   "outputs": [],
   "source": [
    "data.dfs.centroids = preview(\n",
    "    cols=C.centroids,\n",
    "    df=contours.loc[IndexSlice[frames, :], :]\n",
    "    .reset_index()\n",
    "    .pipe(rename, C.sources)\n",
    "    .assign(**{\n",
    "        C.count.raw: lambda df: df.groupby([C.frame(), C.contour()], **GBC)[\n",
    "            [C.x()]\n",
    "        ].transform(\"count\")\n",
    "    })\n",
    "    .query(f\"{C.count.raw} > 3\")\n",
    "    .pipe(C.count.rename)\n",
    "    .assign(**{C.geometry(): lambda df: points_from_xy(df[C.x()], df[C.y()])})\n",
    "    .groupby([C.frame(), C.contour()], **GBC)\n",
    "    .pipe(\n",
    "        agg,\n",
    "        {\n",
    "            C.count(): NamedAgg(C.count(), \"first\"),\n",
    "            C.centroid(): NamedAgg(C.geometry(), lambda df: LinearRing(df).centroid),\n",
    "            C.area(): NamedAgg(C.geometry(), lambda df: Polygon(df).area),\n",
    "        },\n",
    "    ),\n",
    ")"
   ]
  },
  {
   "cell_type": "markdown",
   "metadata": {},
   "source": [
    "Split the centroid point objects into separate named columns that conform to the Trackpy convention. Report the centroids in each frame.\n"
   ]
  },
  {
   "cell_type": "code",
   "execution_count": null,
   "metadata": {
    "tags": [
     "hide-input"
    ]
   },
   "outputs": [],
   "source": [
    "data.dfs.geo = params.format.preview(\n",
    "    cols=C.geo,\n",
    "    df=data.dfs.centroids.assign(**{\n",
    "        C.diameter(): lambda df: sqrt(4 * df[C.area()] / pi),\n",
    "        C.radius_of_gyration(): lambda df: df[C.diameter()] / 4,\n",
    "        C.size(): lambda df: df[C.radius_of_gyration()],\n",
    "    }),\n",
    ")"
   ]
  },
  {
   "cell_type": "code",
   "execution_count": null,
   "metadata": {
    "tags": [
     "hide-input"
    ]
   },
   "outputs": [],
   "source": [
    "data.dfs.dst = preview(\n",
    "    cols=C.dests,\n",
    "    df=GeoDataFrame(data.dfs.geo).assign(**{\n",
    "        C.x(): lambda df: df[C.centroid()].x,\n",
    "        C.y(): lambda df: df[C.centroid()].y,\n",
    "    }),\n",
    ")"
   ]
  },
  {
   "cell_type": "markdown",
   "metadata": {},
   "source": [
    "## Compare approaches\n",
    "\n",
    "Compare Trackpy objects with contour objects. Here the guess radius for Trackpy object finding and contour perimeter filtering are matched to produce the same number of objects from each algorithm. Trackpy features more intelligent filtering, but takes much longer. Trackpy's approach for finding local maxima in grayscale images is applied even to binarized images, exhaustively searching for high points in the binary image, adding to execution time.\n",
    "\n",
    "The percent difference between the approaches is relatively low for this subset, suggesting the contour centroid approach is reasonable.\n",
    "\n",
    "A warm color palette is used to plot Trackpy objects, and a cool color palette is used to plot contour centroids.\n"
   ]
  },
  {
   "cell_type": "code",
   "execution_count": null,
   "metadata": {
    "tags": [
     "hide-input"
    ]
   },
   "outputs": [],
   "source": [
    "with params.format.display_options(IMSHOW_FORMAT):\n",
    "    scatterplot(\n",
    "        ax=ax,\n",
    "        alpha=0.5,\n",
    "        x=C.x(),\n",
    "        y=C.y(),\n",
    "        hue=C.approach(),\n",
    "        palette=PALETTE,\n",
    "        data=concat([\n",
    "            (\n",
    "                data.dfs.trackpy[[C.y(), C.x()]].pipe(C.approach_tp.assign)\n",
    "                if params.compare_with_trackpy\n",
    "                else DataFrame()\n",
    "            ),\n",
    "            data.dfs.dst[[C.y(), C.x()]].pipe(C.approach.assign),\n",
    "        ]),\n",
    "        legend=params.compare_with_trackpy,\n",
    "    )\n",
    "    if params.compare_with_trackpy:\n",
    "        params.format.move_legend(ax, ncol=1)\n",
    "data.plots.composite"
   ]
  }
 ],
 "metadata": {
  "kernelspec": {
   "display_name": "Python 3 (ipykernel)",
   "language": "python",
   "name": "python3"
  },
  "language_info": {
   "codemirror_mode": {
    "name": "ipython",
    "version": 3
   },
   "file_extension": ".py",
   "mimetype": "text/x-python",
   "name": "python",
   "nbconvert_exporter": "python",
   "pygments_lexer": "ipython3",
   "version": "3.11.9"
  },
  "papermill": {
   "parameters": {
    "product": "C:/Users/Blake/Code/mine/boilercv/data/docs/study_the_fit_of_bubble_collapse_correlations/prove_the_concept/23-07-13T14_full_video.ipynb"
   }
  }
 },
 "nbformat": 4,
 "nbformat_minor": 2
}
