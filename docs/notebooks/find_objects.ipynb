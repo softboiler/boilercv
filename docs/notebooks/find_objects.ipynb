{
 "cells": [
  {
   "attachments": {},
   "cell_type": "markdown",
   "metadata": {
    "tags": []
   },
   "source": [
    "::::\n",
    ":::{thebe-button}\n",
    ":::\n",
    "::::\n",
    "\n",
    "# Find objects\n",
    "\n",
    "Find bubble size using two different approaches.\n"
   ]
  },
  {
   "cell_type": "code",
   "execution_count": null,
   "metadata": {
    "tags": [
     "hide-input",
     "parameters",
     "thebe-init"
    ]
   },
   "outputs": [],
   "source": [
    "from collections.abc import Iterable\n",
    "\n",
    "from boilercv_pipeline.dfs import limit_group_size\n",
    "from boilercv_pipeline.models.column import Col, convert, rename\n",
    "from boilercv_pipeline.models.deps import get_slices\n",
    "from boilercv_pipeline.models.df import GBC, agg\n",
    "from boilercv_pipeline.models.subcool import const\n",
    "from boilercv_pipeline.sets import get_contours_df2, load_video\n",
    "from boilercv_pipeline.stages.find_objects import FindObjects as Params\n",
    "from boilercv_pipeline.stages.find_tracks import convert_col\n",
    "from boilercv_pipeline.units import U\n",
    "from dev.docs.nbs import get_mode, init\n",
    "from devtools import pprint\n",
    "from geopandas import GeoDataFrame, points_from_xy\n",
    "from matplotlib.pyplot import subplots\n",
    "from more_itertools import one, only\n",
    "from numpy import pi, sqrt\n",
    "from pandas import DataFrame, IndexSlice, NamedAgg, concat\n",
    "from seaborn import scatterplot\n",
    "from shapely import LinearRing, Polygon\n",
    "\n",
    "from boilercv.data import FRAME\n",
    "from boilercv.images import scale_bool\n",
    "\n",
    "PARAMS = None\n",
    "MODE = get_mode()"
   ]
  },
  {
   "cell_type": "code",
   "execution_count": null,
   "metadata": {
    "tags": [
     "hide-input",
     "hide-output"
    ]
   },
   "outputs": [],
   "source": [
    "PREVIEW_FRAME_COUNT = 50\n",
    "\"\"\"Number of preview frames.\"\"\"\n",
    "\n",
    "if isinstance(PARAMS, str):\n",
    "    params = Params.model_validate_json(PARAMS)\n",
    "else:\n",
    "    context = init(mode=MODE)\n",
    "    if MODE == \"docs\":\n",
    "        PREVIEW_FRAME_COUNT = 10\n",
    "        params = Params(\n",
    "            context=context,\n",
    "            compare_with_trackpy=True,\n",
    "            include_patterns=const.nb_include_patterns,\n",
    "            slicer_patterns=const.nb_slicer_patterns,\n",
    "        )\n",
    "    else:\n",
    "        params = Params(context=context, only_sample=True)\n",
    "params.set_display_options()\n",
    "data = params.data\n",
    "dfs = only(params.dfs)\n",
    "C = params.cols\n",
    "\n",
    "slices = get_slices(one(params.filled_slicers))\n",
    "frames_slice = slices.get(FRAME, slice(None))\n",
    "contours = get_contours_df2(one(params.contours)).loc[IndexSlice[frames_slice, :], :]\n",
    "frames = contours.reset_index()[FRAME].unique()\n",
    "\n",
    "# # ? Produce reduced-size docs data\n",
    "# from pathlib import Path\n",
    "# from boilercv_pipeline.sets import save_video\n",
    "# save_video(\n",
    "#     load_video(one(params.filled), slices={FRAME: range(500)}),\n",
    "#     Path(\"docs/data/filled/2024-07-18T17-44-35.nc\"),\n",
    "# )\n",
    "# contours.loc[frames, :].to_hdf(\n",
    "#     \"docs/data/contours/2024-07-18T17-44-35.h5\",\n",
    "#     key=\"contours\",\n",
    "#     complib=\"zlib\",\n",
    "#     complevel=9,\n",
    "# )\n",
    "\n",
    "M_PER_PX = U.convert(3 / 8, \"in\", \"m\") / (202 - 96)\n",
    "U.define(f\"px = {M_PER_PX} m\")\n",
    "\n",
    "PALETTE = {C.approach_tp.val: \"red\", C.approach.val: \"blue\"}\n",
    "\n",
    "\n",
    "def preview(\n",
    "    df: DataFrame, cols: Iterable[Col] | None = None, index: Col | None = None\n",
    ") -> DataFrame:\n",
    "    \"\"\"Preview a dataframe in the notebook.\"\"\"\n",
    "    params.preview(\n",
    "        cols=cols,\n",
    "        df=df,\n",
    "        index=index,\n",
    "        f=lambda df: df.groupby(C.frame(), **GBC).head(3).head(6),\n",
    "    )\n",
    "    return df\n",
    "\n",
    "\n",
    "pprint(params)"
   ]
  },
  {
   "cell_type": "markdown",
   "metadata": {},
   "source": [
    "## Data\n",
    "\n",
    "Load a video of filled contours and the contour loci and plot a composite of all frames to analyze.\n"
   ]
  },
  {
   "cell_type": "code",
   "execution_count": null,
   "metadata": {
    "tags": [
     "hide-input"
    ]
   },
   "outputs": [],
   "source": [
    "data.plots.composite, ax = subplots()\n",
    "filled_path = one(params.filled)\n",
    "with load_video(\n",
    "    filled_path, slices={FRAME: frames[:: (len(frames) // PREVIEW_FRAME_COUNT)]}\n",
    ") as video:\n",
    "    filled_preview = scale_bool(video)\n",
    "    composite_video = scale_bool(video).max(FRAME).values\n",
    "    height, width = composite_video.shape[:2]\n",
    "    ax.imshow(\n",
    "        ~composite_video, alpha=0.6, extent=(0, width * M_PER_PX, height * M_PER_PX, 0)\n",
    "    )\n",
    "    preview_frames = filled_preview.coords[FRAME]\n",
    "ax.set_xlabel(C.x().replace(\"px\", \"m\"))\n",
    "ax.set_ylabel(C.y().replace(\"px\", \"m\"))\n",
    "\n",
    "\n",
    "def preview_objects(df: DataFrame):\n",
    "    \"\"\"Preview objects.\"\"\"\n",
    "    return df.set_index(C.frame()).loc[preview_frames, :].reset_index()"
   ]
  },
  {
   "cell_type": "markdown",
   "metadata": {},
   "source": [
    "## Find size from filled contours using Trackpy\n",
    "\n",
    "Use Trackpy to find bubble size given the filled contours.\n"
   ]
  },
  {
   "cell_type": "code",
   "execution_count": null,
   "metadata": {
    "tags": [
     "hide-input"
    ]
   },
   "outputs": [],
   "source": [
    "if params.compare_with_trackpy:\n",
    "    from trackpy import batch, quiet\n",
    "\n",
    "    quiet()\n",
    "\n",
    "    with load_video(filled_path, slices=slices) as video:\n",
    "        filled = scale_bool(video)\n",
    "        trackpy_cols = [*C.trackpy, C.x_tp, C.y_tp]\n",
    "        data.dfs.trackpy = preview(\n",
    "            cols=trackpy_cols,\n",
    "            df=batch(\n",
    "                frames=filled.values, diameter=params.guess_diameter, characterize=True\n",
    "            )\n",
    "            .pipe(C.frame.rename)\n",
    "            .assign(**{\n",
    "                C.frame(): lambda df: df[C.frame()].replace(\n",
    "                    dict(enumerate(filled.frame.values))\n",
    "                )\n",
    "            })\n",
    "            .pipe(rename, trackpy_cols)[[c() for c in trackpy_cols]],\n",
    "        )"
   ]
  },
  {
   "cell_type": "markdown",
   "metadata": {},
   "source": [
    "## Find size from contours\n",
    "\n",
    "The prior approach throws out contour data, instead operating on filled contours. Instead, try using shapely to find size directly from contour data.\n",
    "\n",
    "### Prepare to find objects\n",
    "\n",
    "Prepare a dataframe with columns in a certain order, assign contour data to it, and demote the hiearchical indices to plain columns. Count the number of points in each contour and each frame, keeping only those which have enough points to describe a linear ring. Construct a GeoPandas geometry column and operate on it with Shapely to construct linear rings, returning centroids and the representative polygonal area. Also report the number of points in the loci of each contour per frame.\n"
   ]
  },
  {
   "cell_type": "code",
   "execution_count": null,
   "metadata": {
    "tags": [
     "hide-input"
    ]
   },
   "outputs": [],
   "source": [
    "data.dfs.centroids = preview(\n",
    "    cols=C.centroids,\n",
    "    df=contours.reset_index()\n",
    "    .pipe(rename, C.sources)\n",
    "    .pipe(limit_group_size, [C.frame(), C.contour()], 3)\n",
    "    .assign(**{C.geometry(): lambda df: points_from_xy(df[C.x()], df[C.y()])})\n",
    "    .groupby([C.frame(), C.contour()], **GBC)\n",
    "    .pipe(\n",
    "        agg,\n",
    "        {\n",
    "            C.centroid(): NamedAgg(C.geometry(), lambda df: LinearRing(df).centroid),\n",
    "            C.area(): NamedAgg(C.geometry(), lambda df: Polygon(df).area),\n",
    "        },\n",
    "    ),\n",
    ")"
   ]
  },
  {
   "cell_type": "markdown",
   "metadata": {},
   "source": [
    "Split the centroid point objects into separate named columns that conform to the Trackpy convention. Report the centroids in each frame.\n"
   ]
  },
  {
   "cell_type": "code",
   "execution_count": null,
   "metadata": {
    "tags": [
     "hide-input"
    ]
   },
   "outputs": [],
   "source": [
    "data.dfs.geo = params.preview(\n",
    "    cols=C.geo,\n",
    "    df=data.dfs.centroids.assign(**{\n",
    "        C.diameter(): lambda df: sqrt(4 * df[C.area()] / pi),\n",
    "        C.radius_of_gyration(): lambda df: df[C.diameter()] / 4,\n",
    "        C.size(): lambda df: df[C.radius_of_gyration()],\n",
    "    }),\n",
    ")"
   ]
  },
  {
   "cell_type": "code",
   "execution_count": null,
   "metadata": {
    "tags": [
     "hide-input"
    ]
   },
   "outputs": [],
   "source": [
    "data.dfs.dst = preview(\n",
    "    cols=C.dests,\n",
    "    df=GeoDataFrame(data.dfs.geo).assign(**{\n",
    "        C.x(): lambda df: df[C.centroid()].x,\n",
    "        C.y(): lambda df: df[C.centroid()].y,\n",
    "    })[[c() for c in C.dests]],\n",
    ")"
   ]
  },
  {
   "cell_type": "markdown",
   "metadata": {},
   "source": [
    "## Compare approaches\n",
    "\n",
    "Compare Trackpy objects with contour objects. Here the guess radius for Trackpy object finding and contour perimeter filtering are matched to produce the same number of objects from each algorithm. Trackpy features more intelligent filtering, but takes much longer. Trackpy's approach for finding local maxima in grayscale images is applied even to binarized images, exhaustively searching for high points in the binary image, adding to execution time.\n",
    "\n",
    "The percent difference between the approaches is relatively low for this subset, suggesting the contour centroid approach is reasonable.\n",
    "\n",
    "A warm color palette is used to plot Trackpy objects, and a cool color palette is used to plot contour centroids.\n"
   ]
  },
  {
   "cell_type": "code",
   "execution_count": null,
   "metadata": {
    "tags": [
     "hide-input"
    ]
   },
   "outputs": [],
   "source": [
    "trackpy_preview = (\n",
    "    data.dfs.trackpy.pipe(preview_objects)[[C.y_tp(), C.x_tp()]].pipe(\n",
    "        C.approach_tp.assign\n",
    "    )\n",
    "    if params.compare_with_trackpy\n",
    "    else DataFrame()\n",
    ")\n",
    "centroids_preview = (\n",
    "    data.dfs.dst.pipe(preview_objects)[[C.y(), C.x()]]\n",
    "    .pipe(C.approach.assign)\n",
    "    .pipe(convert, [convert_col(C.x, \"m\"), convert_col(C.y, \"m\")], U)\n",
    ")\n",
    "with params.display_options(scale=1.0):\n",
    "    scatterplot(\n",
    "        ax=ax,\n",
    "        alpha=0.5,\n",
    "        x=convert_col(C.x, \"m\")(),\n",
    "        y=convert_col(C.y, \"m\")(),\n",
    "        hue=C.approach(),\n",
    "        palette=PALETTE,\n",
    "        data=concat([trackpy_preview, centroids_preview]),\n",
    "        legend=params.compare_with_trackpy,\n",
    "    )\n",
    "    if params.compare_with_trackpy:\n",
    "        params.move_legend(ax, ncol=1)\n",
    "data.plots.composite"
   ]
  }
 ],
 "metadata": {
  "kernelspec": {
   "display_name": "Python 3 (ipykernel)",
   "language": "python",
   "name": "python3"
  },
  "language_info": {
   "codemirror_mode": {
    "name": "ipython",
    "version": 3
   },
   "file_extension": ".py",
   "mimetype": "text/x-python",
   "name": "python",
   "nbconvert_exporter": "python",
   "pygments_lexer": "ipython3",
   "version": "3.11.10"
  },
  "papermill": {
   "parameters": {
    "product": "C:/Users/Blake/Code/mine/boilercv/data/docs/study_the_fit_of_bubble_collapse_correlations/prove_the_concept/23-07-13T14_full_video.ipynb"
   }
  }
 },
 "nbformat": 4,
 "nbformat_minor": 2
}
