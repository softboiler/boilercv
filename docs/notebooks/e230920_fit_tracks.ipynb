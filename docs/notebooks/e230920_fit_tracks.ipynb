{
 "cells": [
  {
   "attachments": {},
   "cell_type": "markdown",
   "metadata": {
    "tags": []
   },
   "source": [
    "::::\n",
    ":::{thebe-button}\n",
    ":::\n",
    "::::\n",
    "\n",
    "# Fit tracks"
   ]
  },
  {
   "cell_type": "code",
   "execution_count": null,
   "metadata": {
    "tags": [
     "hide-input",
     "parameters",
     "thebe-init"
    ]
   },
   "outputs": [],
   "source": [
    "from __future__ import annotations\n",
    "\n",
    "from boilercore.fits import Fit, fit_from_params\n",
    "from boilercv_pipeline.models.path import get_datetime\n",
    "from boilercv_pipeline.stages import get_thermal_data\n",
    "from boilercv_pipeline.stages.find_tracks import FindTracks as Params\n",
    "from dev.docs.nbs import init\n",
    "from devtools import pprint\n",
    "from more_itertools import one\n",
    "from numpy import inf\n",
    "from pandas import concat, read_hdf\n",
    "\n",
    "from boilercv.dimensionless_params import jakob, prandtl"
   ]
  },
  {
   "cell_type": "code",
   "execution_count": null,
   "metadata": {
    "tags": [
     "hide-input",
     "hide-output"
    ]
   },
   "outputs": [],
   "source": [
    "params = Params(context=init(), only_sample=True)\n",
    "params.set_display_options()\n",
    "C = params.cols\n",
    "\n",
    "thermal = read_hdf(params.deps.thermal)\n",
    "TC = get_thermal_data.Cols()\n",
    "\n",
    "all_tracks = list(one(params.dfs).parent.iterdir())\n",
    "times = [get_datetime(p.stem) for p in all_tracks]\n",
    "\n",
    "# Physical parameters\n",
    "LATENT_HEAT_OF_VAPORIZATION = 2.23e6  # J/kg\n",
    "LIQUID_DENSITY = 960  # kg/m^3\n",
    "LIQUID_DYNAMIC_VISCOSITY = 2.88e-4  # Pa-s\n",
    "LIQUID_ISOBARIC_SPECIFIC_HEAT = 4213  # J/kg-K\n",
    "LIQUID_THERMAL_CONDUCTIVITY = 0.676  # W/m-K\n",
    "VAPOR_DENSITY = 0.804  # kg/m^3\n",
    "\n",
    "# Plotting\n",
    "MAX_FOURIER = 0.005\n",
    "\"\"\"Maximum Fourier number to plot.\"\"\"\n",
    "MAX_BETA = 1.00\n",
    "\"\"\"Maximum dimensionless bubble diameter to plot.\"\"\"\n",
    "MAX_NUSSELT = 1000\n",
    "\"\"\"Maximum Nusselt number to plot.\"\"\"\n",
    "\n",
    "C_2 = 0.61\n",
    "C_3 = 0.33\n",
    "\n",
    "pprint(params)"
   ]
  },
  {
   "cell_type": "code",
   "execution_count": null,
   "metadata": {
    "tags": [
     "hide-input"
    ]
   },
   "outputs": [],
   "source": [
    "tracks = (\n",
    "    concat(\n",
    "        read_hdf(p, key=\"dst\").assign(**{TC.time(): time})\n",
    "        for p, time in zip(all_tracks, times, strict=True)\n",
    "    )\n",
    "    .set_index(TC.time())\n",
    "    .assign(**{\n",
    "        TC.subcool(): thermal.set_index(TC.time()).loc[times, TC.subcool()],  # pyright: ignore[reportArgumentType, reportCallIssue]\n",
    "        \"jakob\": lambda df: jakob(\n",
    "            liquid_density=LIQUID_DENSITY,\n",
    "            vapor_density=VAPOR_DENSITY,\n",
    "            liquid_isobaric_specific_heat=LIQUID_ISOBARIC_SPECIFIC_HEAT,\n",
    "            subcooling=df[TC.subcool()],\n",
    "            latent_heat_of_vaporization=LATENT_HEAT_OF_VAPORIZATION,\n",
    "        ),\n",
    "    })\n",
    "    .reset_index()\n",
    ")\n",
    "Pr = prandtl(\n",
    "    dynamic_viscosity=LIQUID_DYNAMIC_VISCOSITY,\n",
    "    isobaric_specific_heat=LIQUID_ISOBARIC_SPECIFIC_HEAT,\n",
    "    thermal_conductivity=LIQUID_THERMAL_CONDUCTIVITY,\n",
    ")\n",
    "Ja = tracks[\"jakob\"].median()\n",
    "Re_b0 = tracks[C.bub_reynolds0()].median()\n",
    "\n",
    "\n",
    "def Nu(Re_b, C_1, C_4):  # noqa: N803, D103, N802\n",
    "    return C_1 * Re_b**C_2 * Pr**C_3 * Ja**C_4\n",
    "\n",
    "\n",
    "def Nu2(x, C_1, C_2, C_3, C_4):  # noqa: N803, D103, N802\n",
    "    Re_b, Ja = x.T  # noqa: N806\n",
    "    return C_1 * Re_b**C_2 * Pr**C_3 * Ja**C_4"
   ]
  },
  {
   "cell_type": "code",
   "execution_count": null,
   "metadata": {
    "tags": [
     "hide-input"
    ]
   },
   "outputs": [],
   "source": [
    "fits, errors = fit_from_params(\n",
    "    model=Nu,\n",
    "    params=Fit(\n",
    "        independent_params=([\"Re_b\"]),\n",
    "        free_params=([\"C_1\", \"C_4\"]),\n",
    "        values={\"C_1\": 1.0, \"C_4\": 1.0},\n",
    "        bounds={\"C_1\": (-inf, inf), \"C_4\": (-inf, inf)},\n",
    "    ),\n",
    "    x=tracks[C.bub_reynolds()].values,\n",
    "    y=tracks[C.bub_nusselt()].values,\n",
    ")\n",
    "display(\n",
    "    dict(\n",
    "        sorted(\n",
    "            {\n",
    "                \"C_2\": C_2,\n",
    "                \"C_3\": C_3,\n",
    "                **fits,\n",
    "                \"C_5\": 2 * fits[\"C_1\"] * (2 - C_2),\n",
    "                \"C_6\": 1 + fits[\"C_4\"],\n",
    "                \"C_7\": 1 / (2 - C_2),\n",
    "            }.items()\n",
    "        )\n",
    "    ),\n",
    "    errors,\n",
    ")"
   ]
  },
  {
   "cell_type": "code",
   "execution_count": null,
   "metadata": {
    "tags": [
     "hide-input"
    ]
   },
   "outputs": [],
   "source": [
    "fits, errors = fit_from_params(\n",
    "    model=Nu,\n",
    "    params=Fit(\n",
    "        independent_params=([\"Re_b\"]),\n",
    "        free_params=([\"C_1\", \"C_4\"]),\n",
    "        values={\"C_1\": 1.0, \"C_4\": 1.0},\n",
    "        bounds={\"C_1\": (0, inf), \"C_4\": (0, inf)},\n",
    "    ),\n",
    "    x=tracks[C.bub_reynolds()].values,\n",
    "    y=tracks[C.bub_nusselt()].values,\n",
    ")\n",
    "display(\n",
    "    dict(\n",
    "        sorted(\n",
    "            {\n",
    "                \"C_2\": C_2,\n",
    "                \"C_3\": C_3,\n",
    "                **fits,\n",
    "                \"C_5\": 2 * fits[\"C_1\"] * (2 - C_2),\n",
    "                \"C_6\": 1 + fits[\"C_4\"],\n",
    "                \"C_7\": 1 / (2 - C_2),\n",
    "            }.items()\n",
    "        )\n",
    "    ),\n",
    "    errors,\n",
    ")"
   ]
  },
  {
   "cell_type": "code",
   "execution_count": null,
   "metadata": {
    "tags": [
     "hide-input"
    ]
   },
   "outputs": [],
   "source": [
    "fits, errors = fit_from_params(\n",
    "    model=Nu2,\n",
    "    params=Fit(\n",
    "        independent_params=([\"x\"]),\n",
    "        free_params=([\"C_1\", \"C_2\", \"C_3\", \"C_4\"]),\n",
    "        values={\"C_1\": 1.0, \"C_2\": 1.0, \"C_3\": 1.0, \"C_4\": 1.0},\n",
    "        bounds={\n",
    "            \"C_1\": (-inf, inf),\n",
    "            \"C_2\": (-inf, inf),\n",
    "            \"C_3\": (-inf, inf),\n",
    "            \"C_4\": (-inf, inf),\n",
    "        },\n",
    "    ),\n",
    "    x=tracks[[C.bub_reynolds(), \"jakob\"]].values,\n",
    "    y=tracks[C.bub_nusselt()].values,\n",
    ")\n",
    "display(\n",
    "    dict(\n",
    "        sorted(\n",
    "            {\n",
    "                **fits,\n",
    "                \"C_5\": 2 * fits[\"C_1\"] * (2 - C_2),\n",
    "                \"C_6\": 1 + fits[\"C_4\"],\n",
    "                \"C_7\": 1 / (2 - C_2),\n",
    "            }.items()\n",
    "        )\n",
    "    ),\n",
    "    errors,\n",
    ")"
   ]
  },
  {
   "cell_type": "code",
   "execution_count": null,
   "metadata": {
    "tags": [
     "hide-input"
    ]
   },
   "outputs": [],
   "source": [
    "fits, errors = fit_from_params(\n",
    "    model=Nu2,\n",
    "    params=Fit(\n",
    "        independent_params=([\"x\"]),\n",
    "        free_params=([\"C_1\", \"C_2\", \"C_3\", \"C_4\"]),\n",
    "        values={\"C_1\": 1.0, \"C_2\": 1.0, \"C_3\": 1.0, \"C_4\": 1.0},\n",
    "        bounds={\n",
    "            \"C_1\": (0.0, inf),\n",
    "            \"C_2\": (0.0, inf),\n",
    "            \"C_3\": (0.0, inf),\n",
    "            \"C_4\": (0.0, inf),\n",
    "        },\n",
    "    ),\n",
    "    x=tracks[[C.bub_reynolds(), \"jakob\"]].values,\n",
    "    y=tracks[C.bub_nusselt()].values,\n",
    ")\n",
    "display(\n",
    "    dict(\n",
    "        sorted(\n",
    "            {\n",
    "                **fits,\n",
    "                \"C_5\": 2 * fits[\"C_1\"] * (2 - C_2),\n",
    "                \"C_6\": 1 + fits[\"C_4\"],\n",
    "                \"C_7\": 1 / (2 - C_2),\n",
    "            }.items()\n",
    "        )\n",
    "    ),\n",
    "    errors,\n",
    ")"
   ]
  }
 ],
 "metadata": {
  "kernelspec": {
   "display_name": "Python 3 (ipykernel)",
   "language": "python",
   "name": "python3"
  },
  "language_info": {
   "codemirror_mode": {
    "name": "ipython",
    "version": 3
   },
   "file_extension": ".py",
   "mimetype": "text/x-python",
   "name": "python",
   "nbconvert_exporter": "python",
   "pygments_lexer": "ipython3",
   "version": "3.11.10"
  },
  "papermill": {
   "parameters": {
    "product": "C:/Users/Blake/Code/mine/boilercv/data/docs/study_the_fit_of_bubble_collapse_correlations/prove_the_concept/23-07-13T14_full_video.ipynb"
   }
  }
 },
 "nbformat": 4,
 "nbformat_minor": 2
}
