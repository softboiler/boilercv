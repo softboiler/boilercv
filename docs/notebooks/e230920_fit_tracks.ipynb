{
 "cells": [
  {
   "attachments": {},
   "cell_type": "markdown",
   "metadata": {
    "tags": []
   },
   "source": [
    "::::\n",
    ":::{thebe-button}\n",
    ":::\n",
    "::::\n",
    "\n",
    "# Fit tracks"
   ]
  },
  {
   "cell_type": "code",
   "execution_count": null,
   "metadata": {
    "tags": [
     "hide-input",
     "parameters",
     "thebe-init"
    ]
   },
   "outputs": [],
   "source": [
    "from __future__ import annotations\n",
    "\n",
    "from boilercore.fits import Fit, fit_from_params\n",
    "from boilercv_dev.docs.nbs import init\n",
    "from boilercv_pipeline.models.path import get_datetime\n",
    "from boilercv_pipeline.stages import get_thermal_data\n",
    "from boilercv_pipeline.stages.find_tracks import FindTracks as Params\n",
    "from devtools import pprint\n",
    "from more_itertools import one\n",
    "from numpy import clip, inf, logspace, nan_to_num, pi\n",
    "from pandas import concat, read_hdf\n",
    "\n",
    "from boilercv.dimensionless_params import jakob, prandtl"
   ]
  },
  {
   "cell_type": "code",
   "execution_count": null,
   "metadata": {
    "tags": [
     "hide-input",
     "hide-output"
    ]
   },
   "outputs": [],
   "source": [
    "params = Params(context=init(), only_sample=True)\n",
    "params.set_display_options()\n",
    "C = params.cols\n",
    "\n",
    "thermal = read_hdf(params.deps.thermal)\n",
    "TC = get_thermal_data.Cols()\n",
    "\n",
    "all_tracks = list(one(params.dfs).parent.iterdir())\n",
    "times = [get_datetime(p.stem) for p in all_tracks]\n",
    "\n",
    "# Physical parameters\n",
    "LATENT_HEAT_OF_VAPORIZATION = 2.23e6  # J/kg\n",
    "LIQUID_DENSITY = 960  # kg/m^3\n",
    "LIQUID_DYNAMIC_VISCOSITY = 2.88e-4  # Pa-s\n",
    "LIQUID_ISOBARIC_SPECIFIC_HEAT = 4213  # J/kg-K\n",
    "LIQUID_THERMAL_CONDUCTIVITY = 0.676  # W/m-K\n",
    "VAPOR_DENSITY = 0.804  # kg/m^3\n",
    "\n",
    "# Fit constants\n",
    "GUESSES = logspace(-2, 0)\n",
    "\n",
    "pprint(params)"
   ]
  },
  {
   "cell_type": "code",
   "execution_count": null,
   "metadata": {
    "tags": [
     "hide-input"
    ]
   },
   "outputs": [],
   "source": [
    "tracks = (\n",
    "    concat(\n",
    "        read_hdf(p, key=\"dst\").assign(**{TC.time(): time})\n",
    "        for p, time in zip(all_tracks, times, strict=True)\n",
    "    )\n",
    "    .set_index(TC.time())\n",
    "    .assign(**{\n",
    "        TC.subcool(): thermal.set_index(TC.time()).loc[times, TC.subcool()],  # pyright: ignore[reportArgumentType, reportCallIssue]\n",
    "        \"jakob\": lambda df: jakob(\n",
    "            liquid_density=LIQUID_DENSITY,\n",
    "            vapor_density=VAPOR_DENSITY,\n",
    "            liquid_isobaric_specific_heat=LIQUID_ISOBARIC_SPECIFIC_HEAT,\n",
    "            subcooling=df[TC.subcool()],\n",
    "            latent_heat_of_vaporization=LATENT_HEAT_OF_VAPORIZATION,\n",
    "        ),\n",
    "    })\n",
    "    .reset_index()\n",
    ")\n",
    "Pr = prandtl(\n",
    "    dynamic_viscosity=LIQUID_DYNAMIC_VISCOSITY,\n",
    "    isobaric_specific_heat=LIQUID_ISOBARIC_SPECIFIC_HEAT,\n",
    "    thermal_conductivity=LIQUID_THERMAL_CONDUCTIVITY,\n",
    ")\n",
    "Ja = tracks[\"jakob\"].median()\n",
    "Re_b0 = tracks[C.bub_reynolds0()].median()"
   ]
  },
  {
   "cell_type": "code",
   "execution_count": null,
   "metadata": {
    "tags": [
     "hide-input"
    ]
   },
   "outputs": [],
   "source": [
    "C_2_lucic_mayinger_2010 = 0.61\n",
    "C_3_lucic_mayinger_2010 = 0.33\n",
    "\n",
    "\n",
    "def nusselt_lucic_mayinger_2010(Re_b, C_1, C_4):  # noqa: D103, N803\n",
    "    return C_1 * Re_b**C_2_lucic_mayinger_2010 * Pr**C_3_lucic_mayinger_2010 * Ja**C_4\n",
    "\n",
    "\n",
    "fits = {\"C_1\": inf, \"C_4\": inf}\n",
    "errors = {\"C_1_err\": inf, \"C_4_err\": inf}\n",
    "for guess in GUESSES:\n",
    "    new_fits, new_errors = fit_from_params(\n",
    "        model=nusselt_lucic_mayinger_2010,\n",
    "        params=Fit(\n",
    "            independent_params=([\"Re_b\"]),\n",
    "            free_params=([\"C_1\", \"C_4\"]),\n",
    "            values={\"C_1\": guess, \"C_4\": guess},\n",
    "            bounds={\"C_1\": (0, inf), \"C_4\": (0, inf)},\n",
    "        ),\n",
    "        x=tracks[C.bub_reynolds()].values,\n",
    "        y=tracks[C.bub_nusselt()].values,\n",
    "    )\n",
    "    if new_errors[\"C_1_err\"] < errors[\"C_1_err\"]:\n",
    "        fits = new_fits\n",
    "        errors = new_errors\n",
    "        display({**errors, **fits})\n",
    "\n",
    "display({\n",
    "    \"C_2\": C_2_lucic_mayinger_2010,\n",
    "    \"C_3\": C_3_lucic_mayinger_2010,\n",
    "    \"C_5\": 2 * fits[\"C_1\"] * (2 - C_2_lucic_mayinger_2010),\n",
    "    \"C_6\": 1 + fits[\"C_4\"],\n",
    "    \"C_7\": 1 / (2 - C_2_lucic_mayinger_2010),\n",
    "})"
   ]
  },
  {
   "cell_type": "code",
   "execution_count": null,
   "metadata": {
    "tags": [
     "hide-input"
    ]
   },
   "outputs": [],
   "source": [
    "C_2_chen_mayinger_1992 = 0.7\n",
    "C_3_chen_mayinger_1992 = 0.5\n",
    "\n",
    "\n",
    "def nusselt_chen_mayinger_1992(Re_b, C_1, C_4):  # noqa: D103, N803\n",
    "    return C_1 * Re_b**C_2_chen_mayinger_1992 * Pr**C_3_chen_mayinger_1992 * Ja**C_4\n",
    "\n",
    "\n",
    "fits = {\"C_1\": inf, \"C_4\": inf}\n",
    "errors = {\"C_1_err\": inf, \"C_4_err\": inf}\n",
    "for guess in GUESSES:\n",
    "    new_fits, new_errors = fit_from_params(\n",
    "        model=nusselt_chen_mayinger_1992,\n",
    "        params=Fit(\n",
    "            independent_params=([\"Re_b\"]),\n",
    "            free_params=([\"C_1\", \"C_4\"]),\n",
    "            values={\"C_1\": guess, \"C_4\": guess},\n",
    "            bounds={\"C_1\": (0, inf), \"C_4\": (0, inf)},\n",
    "        ),\n",
    "        x=tracks[C.bub_reynolds()].values,\n",
    "        y=tracks[C.bub_nusselt()].values,\n",
    "    )\n",
    "    if new_errors[\"C_1_err\"] < errors[\"C_1_err\"]:\n",
    "        fits = new_fits\n",
    "        errors = new_errors\n",
    "        display({**errors, **fits})\n",
    "\n",
    "display({\n",
    "    \"C_2\": C_2_chen_mayinger_1992,\n",
    "    \"C_3\": C_3_chen_mayinger_1992,\n",
    "    \"C_5\": 2 * fits[\"C_1\"] * (2 - C_2_chen_mayinger_1992),\n",
    "    \"C_6\": 1 + fits[\"C_4\"],\n",
    "    \"C_7\": 1 / (2 - C_2_chen_mayinger_1992),\n",
    "})"
   ]
  },
  {
   "cell_type": "code",
   "execution_count": null,
   "metadata": {
    "tags": [
     "hide-input"
    ]
   },
   "outputs": [],
   "source": [
    "def beta_florschuetz_chao_1965(Fo_0, C_1):  # noqa: N803, D103\n",
    "    return 1 - 4 * Ja * (Fo_0 / pi) ** C_1\n",
    "\n",
    "\n",
    "fits, errors = fit_from_params(\n",
    "    model=beta_florschuetz_chao_1965,\n",
    "    params=Fit(\n",
    "        independent_params=([\"Fo_0\"]),\n",
    "        free_params=([\"C_1\"]),\n",
    "        values={\"C_1\": 1},\n",
    "        bounds={\"C_1\": (0, inf)},\n",
    "    ),\n",
    "    x=tracks[C.bub_fourier()].values,\n",
    "    y=tracks[C.bub_beta()].values,\n",
    ")\n",
    "display({**errors, **fits})"
   ]
  },
  {
   "cell_type": "code",
   "execution_count": null,
   "metadata": {
    "tags": [
     "hide-input"
    ]
   },
   "outputs": [],
   "source": [
    "C_6_chen_mayinger_1992 = 1.00\n",
    "C_7_chen_mayinger_1992 = 1 / (2 - C_2_chen_mayinger_1992)\n",
    "\n",
    "\n",
    "def beta_chen_mayinger_1992(x, C_5):  # noqa: N803, D103\n",
    "    Fo_0, Ja = x.T  # noqa: N806\n",
    "    return clip(\n",
    "        nan_to_num(\n",
    "            (\n",
    "                1\n",
    "                - C_5\n",
    "                * Fo_0\n",
    "                * Ja**C_6_chen_mayinger_1992\n",
    "                * Pr**C_2_chen_mayinger_1992\n",
    "                * Re_b0**C_3_chen_mayinger_1992\n",
    "            )\n",
    "            ** (1 / (2 - C_2_chen_mayinger_1992)),\n",
    "            nan=0,\n",
    "        ),\n",
    "        0,\n",
    "        None,\n",
    "    )\n",
    "\n",
    "\n",
    "fits, errors = fit_from_params(\n",
    "    model=beta_chen_mayinger_1992,\n",
    "    params=Fit(\n",
    "        independent_params=([\"x\"]),\n",
    "        free_params=([\"C_5\"]),\n",
    "        values={\"C_5\": 1},\n",
    "        bounds={\"C_5\": (0, inf)},\n",
    "    ),\n",
    "    x=tracks[[C.bub_fourier(), \"jakob\"]].values,\n",
    "    y=tracks[C.bub_beta()].values,\n",
    ")\n",
    "display({\n",
    "    **errors,\n",
    "    **fits,\n",
    "    \"C_1\": fits[\"C_5\"] / 2 / (2 - C_2_chen_mayinger_1992),\n",
    "    \"C_2\": C_2_chen_mayinger_1992,\n",
    "    \"C_3\": C_3_chen_mayinger_1992,\n",
    "    \"C_4\": C_6_chen_mayinger_1992 - 1,\n",
    "    \"C_6\": C_6_chen_mayinger_1992,\n",
    "    \"C_7\": C_7_chen_mayinger_1992,\n",
    "})"
   ]
  }
 ],
 "metadata": {
  "kernelspec": {
   "display_name": "Python 3 (ipykernel)",
   "language": "python",
   "name": "python3"
  },
  "language_info": {
   "codemirror_mode": {
    "name": "ipython",
    "version": 3
   },
   "file_extension": ".py",
   "mimetype": "text/x-python",
   "name": "python",
   "nbconvert_exporter": "python",
   "pygments_lexer": "ipython3",
   "version": "3.11.10"
  },
  "papermill": {
   "parameters": {
    "product": "C:/Users/Blake/Code/mine/boilercv/data/docs/study_the_fit_of_bubble_collapse_correlations/prove_the_concept/23-07-13T14_full_video.ipynb"
   }
  }
 },
 "nbformat": 4,
 "nbformat_minor": 2
}
