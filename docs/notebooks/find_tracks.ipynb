{
 "cells": [
  {
   "attachments": {},
   "cell_type": "markdown",
   "metadata": {
    "tags": []
   },
   "source": [
    "::::\n",
    ":::{thebe-button}\n",
    ":::\n",
    "::::\n",
    "\n",
    "# Find tracks\n",
    "\n",
    "Compare experimental bubble histories to bubble history correlations. Bubble detection and linking performed by Trackpy, an implementation of the Crocker-Grier algorithm {cite}`allanTrackpy2018,crockerMethodsDigitalVideo1996`.\n"
   ]
  },
  {
   "cell_type": "code",
   "execution_count": null,
   "metadata": {
    "tags": [
     "hide-input",
     "parameters",
     "thebe-init"
    ]
   },
   "outputs": [],
   "source": [
    "from collections.abc import Iterable\n",
    "\n",
    "from devtools import pprint\n",
    "from more_itertools import one, only\n",
    "from numpy import diff, linalg\n",
    "from pandas import DataFrame, read_hdf\n",
    "\n",
    "from boilercv.data import FRAME, VIDEO\n",
    "from boilercv.images import scale_bool\n",
    "from boilercv_docs.nbs import init\n",
    "from boilercv_pipeline.models.column import Col\n",
    "from boilercv_pipeline.models.deps import get_slices\n",
    "from boilercv_pipeline.models.df import GBC\n",
    "from boilercv_pipeline.models.subcool import const\n",
    "from boilercv_pipeline.models.unit import M_TO_MM\n",
    "from boilercv_pipeline.sets import get_dataset, get_dataset2\n",
    "from boilercv_pipeline.stages.find_tracks import FindTracks as Params\n",
    "\n",
    "PARAMS = None\n",
    "\n",
    "SEARCH_RANGE = 30\n",
    "\"\"\"Pixel range to search for the next bubble.\"\"\"\n",
    "MEMORY = 5\n",
    "\"\"\"Frames to remember a bubble.\"\"\"\n",
    "\n",
    "PX_PER_M = 20997.3753"
   ]
  },
  {
   "cell_type": "code",
   "execution_count": null,
   "metadata": {
    "tags": [
     "hide-input"
    ]
   },
   "outputs": [],
   "source": [
    "if isinstance(PARAMS, str):\n",
    "    params = Params.model_validate_json(PARAMS)\n",
    "else:\n",
    "    params = Params(\n",
    "        context=init(),\n",
    "        include_patterns=const.nb_include_patterns,\n",
    "        slicer_patterns=const.nb_slicer_patterns,\n",
    "    )\n",
    "params.format.set_display_options()\n",
    "data = params.data\n",
    "C = params.cols\n",
    "context = params.context\n",
    "objects = DataFrame(read_hdf(one(params.objects)))\n",
    "slices = get_slices(one(params.filled_slicers))\n",
    "frames = slices.get(FRAME, slice(None))\n",
    "filled = scale_bool(get_dataset2(one(params.filled), slices=slices)[VIDEO])\n",
    "dfs = only(params.dfs)\n",
    "\n",
    "\n",
    "def preview(\n",
    "    df: DataFrame, cols: Iterable[Col] | None = None, index: Col | None = None\n",
    ") -> DataFrame:\n",
    "    \"\"\"Preview a dataframe in the notebook.\"\"\"\n",
    "    df = params.format.preview(\n",
    "        cols=cols,\n",
    "        df=df,\n",
    "        index=index,\n",
    "        f=lambda df: df.groupby(C.frame(), **GBC).head(3).head(6),\n",
    "    )\n",
    "    return df\n",
    "\n",
    "\n",
    "pprint(params)"
   ]
  },
  {
   "cell_type": "markdown",
   "metadata": {},
   "source": [
    "## Find bubbles in each frame and link them\n",
    "\n",
    "Detect individual bubbles in each frame, and then link detections across frames by application of the Crocker-Grier tracking algorithm, which takes into account centroid proximity and expected positions {cite}`crockerMethodsDigitalVideo1996`.\n",
    "\n",
    "Initial and lifetime characteristics of long-lived bubbles are shown in **Table&NonBreakingSpace;1**. All bubbles departing the surface have an initial depth, $y$, close to the actual boiling surface, and a bimodal distribution in initial $x$, close to active nucleation sites. This information is used to determine surface and departure $y$ thresholds for alignment of bubble departures.\n"
   ]
  },
  {
   "cell_type": "code",
   "execution_count": null,
   "metadata": {
    "tags": [
     "hide-input"
    ]
   },
   "outputs": [],
   "source": [
    "objects: DataFrame = read_hdf(\n",
    "    (params.deps.objects / f\"objects_{path_time}\").with_suffix(\".h5\")\n",
    ")  # pyright: ignore[reportAssignmentType]"
   ]
  },
  {
   "cell_type": "code",
   "execution_count": null,
   "metadata": {
    "tags": [
     "hide-input"
    ]
   },
   "outputs": [],
   "source": [
    "path_time = p.time.replace(\":\", \"-\")\n",
    "video = get_dataset(p.time.replace(\":\", \"-\"))[\"video\"]\n",
    "frametime = diff(video.time.values).mean()\n",
    "objects: DataFrame = read_hdf((OBJECTS / f\"objects_{path_time}\").with_suffix(\".h5\"))  # pyright: ignore[reportAssignmentType]\n",
    "tracks = (\n",
    "    link(f=objects, search_range=SEARCH_RANGE, memory=MEMORY)\n",
    "    .rename(columns={\"x\": \"x_px\", \"y\": \"y_px\"})\n",
    "    .assign(\n",
    "        frame_lifetime=(\n",
    "            lambda df: df.groupby(\"particle\", **GBC)[\"frame\"].transform(\"count\")\n",
    "        )\n",
    "    )\n",
    "    .sort_values([\"frame_lifetime\", \"particle\", \"frame\"], ascending=[False, True, True])\n",
    "    .assign(\n",
    "        bubble=(lambda df: df.groupby(\"particle\", **GBC).ngroup()),\n",
    "        dy_px=lambda df: df.groupby(\"bubble\", **GBC)[[\"y_px\"]].diff().fillna(0),\n",
    "        dx_px=lambda df: df.groupby(\"bubble\", **GBC)[[\"x_px\"]].diff().fillna(0),\n",
    "        y=lambda df: df[\"y_px\"] / PX_PER_M,\n",
    "        x=lambda df: df[\"x_px\"] / PX_PER_M,\n",
    "        dy=lambda df: df[\"dy_px\"] / PX_PER_M / frametime,\n",
    "        dx=lambda df: df[\"dx_px\"] / PX_PER_M / frametime,\n",
    "        diameter=lambda df: df[\"diameter_px\"] / PX_PER_M,\n",
    "        radius_of_gyration=lambda df: df[\"radius_of_gyration_px\"] / PX_PER_M,\n",
    "        distance=lambda df: linalg.norm(df[[\"dx\", \"dy\"]].abs(), axis=1),\n",
    "        time=lambda df: video.sel(frame=df[\"frame\"].values)[\"time\"],\n",
    "        lifetime=lambda df: df[\"frame_lifetime\"] * frametime,\n",
    "    )\n",
    "    .drop(columns=[\"particle\"])\n",
    ")\n",
    "\n",
    "with style_df(\n",
    "    tracks.groupby(\"bubble\", **GBC)\n",
    "    .head(1)\n",
    "    .set_index(\"bubble\")\n",
    "    .head(16)\n",
    "    .pipe(\n",
    "        transform_cols,\n",
    "        cols=[\n",
    "            Col(\"lifetime\", \"Lifetime\", \"s\"),\n",
    "            Col(\"time\", r\"$t_0$\", \"s\"),\n",
    "            Col(\"diameter\", r\"$d_{b0}$\", **M_TO_MM),\n",
    "            Col(\"y\", r\"$y_{b0}$\", **M_TO_MM),\n",
    "            Col(\"x\", r\"$x_{b0}$\", **M_TO_MM),\n",
    "        ],\n",
    "    )\n",
    ") as style:\n",
    "    display_dataframe_with_math(style.background_gradient())"
   ]
  },
  {
   "cell_type": "markdown",
   "metadata": {},
   "source": [
    "**Table&NonBreakingSpace;1**: Selected properties of long-lived bubbles\n",
    "Bubbles are identified by a unique particle number. Their lifetime, the time of their first appearance, their initial diameter and elevation, and lifetime histograms of selected characteristics are shown.\n"
   ]
  }
 ],
 "metadata": {
  "kernelspec": {
   "display_name": "Python 3 (ipykernel)",
   "language": "python",
   "name": "python3"
  },
  "language_info": {
   "codemirror_mode": {
    "name": "ipython",
    "version": 3
   },
   "file_extension": ".py",
   "mimetype": "text/x-python",
   "name": "python",
   "nbconvert_exporter": "python",
   "pygments_lexer": "ipython3",
   "version": "3.11.9"
  },
  "papermill": {
   "parameters": {
    "product": "C:/Users/Blake/Code/mine/boilercv/data/docs/study_the_fit_of_bubble_collapse_correlations/prove_the_concept/23-07-13T14_full_video.ipynb"
   }
  }
 },
 "nbformat": 4,
 "nbformat_minor": 2
}
