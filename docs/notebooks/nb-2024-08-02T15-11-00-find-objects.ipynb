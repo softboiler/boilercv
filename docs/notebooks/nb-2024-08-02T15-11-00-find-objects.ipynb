{
 "cells": [
  {
   "attachments": {},
   "cell_type": "markdown",
   "metadata": {
    "tags": []
   },
   "source": [
    "::::\n",
    ":::{thebe-button}\n",
    ":::\n",
    "::::\n",
    "\n",
    "# Find objects\n",
    "\n",
    "Find bubble size using two different approaches.\n"
   ]
  },
  {
   "cell_type": "code",
   "execution_count": null,
   "metadata": {
    "tags": [
     "hide-input",
     "parameters",
     "thebe-init"
    ]
   },
   "outputs": [],
   "source": [
    "from boilercv_docs.nbs import init\n",
    "\n",
    "paths = init()\n",
    "\n",
    "from devtools import pprint\n",
    "from geopandas import GeoDataFrame, points_from_xy\n",
    "from numpy import pi, sqrt\n",
    "from pandas import DataFrame, IndexSlice, NamedAgg\n",
    "from seaborn import scatterplot\n",
    "from shapely import LinearRing, Polygon\n",
    "\n",
    "from boilercv.images import scale_bool\n",
    "from boilercv_docs.nbs import HIDE, nowarn, set_display_options\n",
    "from boilercv_docs.settings import Notebooks, default\n",
    "from boilercv_pipeline.experiments.e230920_subcool import GBC, bounded_ax\n",
    "from boilercv_pipeline.sets import get_contours_df, get_dataset\n",
    "\n",
    "default.__init__()  # noqa: PLC2801\n",
    "p = default.notebooks\n",
    "\n",
    "COMPARE_WITH_TRACKPY = True\n",
    "\"\"\"Whether to get objects using the Trackpy approach.\"\"\"\n",
    "STEP = 10\n",
    "\"\"\"Frame step size.\"\"\"\n",
    "STOP = 3\n",
    "\"\"\"Last frame to analyze.\"\"\"\n",
    "GUESS_DIAMETER = 21\n",
    "\"\"\"Guess diameter for the Trackpy approach. (px)\"\"\"\n",
    "TRACKPY_COLS = [\"y\", \"x\", \"frame\", \"size\"]\n",
    "\"\"\"Columns to compare with the Trackpy approach.\"\"\"\n",
    "COLS = [*TRACKPY_COLS, \"area\", \"diameter_px\", \"radius_of_gyration_px\"]\n",
    "\"\"\"Data to store.\"\"\"\n",
    "\n",
    "HIDE"
   ]
  },
  {
   "cell_type": "code",
   "execution_count": null,
   "metadata": {
    "tags": [
     "hide-input",
     "remove-cell"
    ]
   },
   "outputs": [],
   "source": [
    "p = Notebooks.model_validate(p)\n",
    "set_display_options(p.font_scale)\n",
    "pprint(p)"
   ]
  },
  {
   "cell_type": "markdown",
   "metadata": {},
   "source": [
    "## Data\n",
    "\n",
    "Load a video of filled contours and the contour loci and plot a composite of all frames to analyze.\n"
   ]
  },
  {
   "cell_type": "code",
   "execution_count": null,
   "metadata": {
    "tags": [
     "hide-input"
    ]
   },
   "outputs": [],
   "source": [
    "if COMPARE_WITH_TRACKPY:\n",
    "    with nowarn(capture=True):\n",
    "        from trackpy import batch, quiet\n",
    "\n",
    "    quiet()\n",
    "\n",
    "PATH_TIME = p.time.replace(\":\", \"-\")\n",
    "\"\"\"Timestamp suitable for paths.\n",
    "\n",
    "Also used in notebook parametrization.\n",
    "\"\"\"\n",
    "\n",
    "filled_contours = scale_bool(\n",
    "    get_dataset(PATH_TIME, frame=p.frames, stage=\"filled\")[\"video\"]\n",
    ")\n",
    "contours_df = get_contours_df(PATH_TIME)\n",
    "composite_video = filled_contours.max(\"frame\").values\n",
    "with bounded_ax(composite_video) as ax:\n",
    "    ax.imshow(~composite_video, alpha=0.4)\n",
    "\n",
    "HIDE"
   ]
  },
  {
   "cell_type": "markdown",
   "metadata": {},
   "source": [
    "## Find size from filled contours using Trackpy\n",
    "\n",
    "Use Trackpy to find bubble size given the filled contours.\n"
   ]
  },
  {
   "cell_type": "code",
   "execution_count": null,
   "metadata": {
    "tags": [
     "hide-input"
    ]
   },
   "outputs": [],
   "source": [
    "if COMPARE_WITH_TRACKPY:\n",
    "    tp_objects = (\n",
    "        batch(\n",
    "            frames=filled_contours.values, diameter=GUESS_DIAMETER, characterize=True\n",
    "        ).assign(\n",
    "            frame=lambda df: df.frame.replace(\n",
    "                dict(enumerate(filled_contours.frame.values))\n",
    "            )\n",
    "        )\n",
    "    ).loc[:, TRACKPY_COLS]\n",
    "else:\n",
    "    tp_objects = DataFrame()\n",
    "\n",
    "tp_objects"
   ]
  },
  {
   "cell_type": "markdown",
   "metadata": {},
   "source": [
    "## Find size from contours\n",
    "\n",
    "The prior approach throws out contour data, instead operating on filled contours. Instead, try using shapely to find size directly from contour data.\n",
    "\n",
    "### Prepare to find objects\n",
    "\n",
    "Prepare a dataframe with columns in a certain order, assign contour data to it, and demote the hiearchical indices to plain columns. Count the number of points in each contour and each frame, keeping only those which have enough points to describe a linear ring. Construct a GeoPandas geometry column and operate on it with Shapely to construct linear rings, returning centroids and the representative polygonal area. Also report the number of points in the loci of each contour per frame.\n"
   ]
  },
  {
   "cell_type": "code",
   "execution_count": null,
   "metadata": {
    "tags": [
     "hide-input"
    ]
   },
   "outputs": [],
   "source": [
    "contours = (\n",
    "    DataFrame(columns=[\"xpx\", \"ypx\"])\n",
    "    .assign(**contours_df.loc[IndexSlice[p.frames, :], :])\n",
    "    .rename(axis=\"columns\", mapper=dict(xpx=\"x\", ypx=\"y\"))\n",
    "    .reset_index()\n",
    "    .assign(\n",
    "        count=lambda df: df.groupby([\"frame\", \"contour\"], **GBC).x.transform(\"count\")\n",
    "    )\n",
    "    .query(\"count > 3\")\n",
    "    .assign(geometry=lambda df: points_from_xy(df.x, df.y))\n",
    "    .groupby([\"frame\", \"contour\"], **GBC)\n",
    "    .agg(\n",
    "        count=NamedAgg(column=\"count\", aggfunc=\"first\"),\n",
    "        centroid=NamedAgg(\n",
    "            column=\"geometry\", aggfunc=lambda df: LinearRing(df).centroid\n",
    "        ),\n",
    "        area=NamedAgg(column=\"geometry\", aggfunc=lambda df: Polygon(df).area),\n",
    "    )\n",
    "    .assign(\n",
    "        diameter_px=lambda df: sqrt(4 * df[\"area\"] / pi),\n",
    "        radius_of_gyration_px=lambda df: df[\"diameter_px\"] / 4,\n",
    "        size=lambda df: df[\"radius_of_gyration_px\"],\n",
    "    )\n",
    ")\n",
    "contours"
   ]
  },
  {
   "cell_type": "markdown",
   "metadata": {},
   "source": [
    "Split the centroid point objects into separate named columns that conform to the Trackpy convention. Report the centroids in each frame.\n"
   ]
  },
  {
   "cell_type": "code",
   "execution_count": null,
   "metadata": {
    "tags": [
     "hide-input"
    ]
   },
   "outputs": [],
   "source": [
    "objects = (\n",
    "    GeoDataFrame(contours)\n",
    "    .assign(x=lambda df: df.centroid.x, y=lambda df: df.centroid.y)\n",
    "    .loc[:, COLS]\n",
    "    .sort_values([\"frame\", \"y\", \"x\"], ignore_index=True)\n",
    ")\n",
    "objects"
   ]
  },
  {
   "cell_type": "markdown",
   "metadata": {},
   "source": [
    "## Compare approaches\n",
    "\n",
    "Compare Trackpy objects with contour objects. Here the guess radius for Trackpy object finding and contour perimeter filtering are matched to produce the same number of objects from each algorithm. Trackpy features more intelligent filtering, but takes much longer. Trackpy's approach for finding local maxima in grayscale images is applied even to binarized images, exhaustively searching for high points in the binary image, adding to execution time.\n",
    "\n",
    "The percent difference between the approaches is relatively low for this subset, suggesting the contour centroid approach is reasonable.\n",
    "\n",
    "A warm color palette is used to plot Trackpy objects, and a cool color palette is used to plot contour centroids.\n"
   ]
  },
  {
   "cell_type": "code",
   "execution_count": null,
   "metadata": {
    "tags": [
     "hide-input"
    ]
   },
   "outputs": [],
   "source": [
    "if COMPARE_WITH_TRACKPY:\n",
    "    scatterplot(\n",
    "        ax=ax, data=tp_objects, x=\"x\", y=\"y\", alpha=0.6, color=\"red\", legend=False\n",
    "    )\n",
    "scatterplot(ax=ax, data=objects, x=\"x\", y=\"y\", alpha=0.6, color=\"blue\", legend=False)\n",
    "\n",
    "fig = ax.get_figure()\n",
    "fig"
   ]
  }
 ],
 "metadata": {
  "kernelspec": {
   "display_name": "Python 3 (ipykernel)",
   "language": "python",
   "name": "python3"
  },
  "language_info": {
   "codemirror_mode": {
    "name": "ipython",
    "version": 3
   },
   "file_extension": ".py",
   "mimetype": "text/x-python",
   "name": "python",
   "nbconvert_exporter": "python",
   "pygments_lexer": "ipython3",
   "version": "3.11.9"
  },
  "papermill": {
   "parameters": {
    "product": "C:/Users/Blake/Code/mine/boilercv/data/docs/study_the_fit_of_bubble_collapse_correlations/prove_the_concept/23-07-13T14_full_video.ipynb"
   }
  }
 },
 "nbformat": 4,
 "nbformat_minor": 2
}
